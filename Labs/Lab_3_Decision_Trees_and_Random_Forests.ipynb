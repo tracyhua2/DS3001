{
 "cells": [
  {
   "cell_type": "markdown",
   "metadata": {
    "id": "Hkkb_7LYKsG4"
   },
   "source": [
    "## **Name:** First Last\n",
    "\n",
    "## **Computing ID:** ID"
   ]
  },
  {
   "cell_type": "code",
   "execution_count": 10,
   "metadata": {
    "colab": {
     "base_uri": "https://localhost:8080/"
    },
    "id": "1DAOPfwqMV5t",
    "outputId": "968391f3-d864-4f75-becd-32ba1a646a2a"
   },
   "outputs": [
    {
     "name": "stdout",
     "output_type": "stream",
     "text": [
      "Requirement already satisfied: lime in /usr/local/lib/python3.11/dist-packages (0.2.0.1)\n",
      "Requirement already satisfied: matplotlib in /usr/local/lib/python3.11/dist-packages (from lime) (3.10.0)\n",
      "Requirement already satisfied: numpy in /usr/local/lib/python3.11/dist-packages (from lime) (2.0.2)\n",
      "Requirement already satisfied: scipy in /usr/local/lib/python3.11/dist-packages (from lime) (1.14.1)\n",
      "Requirement already satisfied: tqdm in /usr/local/lib/python3.11/dist-packages (from lime) (4.67.1)\n",
      "Requirement already satisfied: scikit-learn>=0.18 in /usr/local/lib/python3.11/dist-packages (from lime) (1.6.1)\n",
      "Requirement already satisfied: scikit-image>=0.12 in /usr/local/lib/python3.11/dist-packages (from lime) (0.25.2)\n",
      "Requirement already satisfied: networkx>=3.0 in /usr/local/lib/python3.11/dist-packages (from scikit-image>=0.12->lime) (3.4.2)\n",
      "Requirement already satisfied: pillow>=10.1 in /usr/local/lib/python3.11/dist-packages (from scikit-image>=0.12->lime) (11.1.0)\n",
      "Requirement already satisfied: imageio!=2.35.0,>=2.33 in /usr/local/lib/python3.11/dist-packages (from scikit-image>=0.12->lime) (2.37.0)\n",
      "Requirement already satisfied: tifffile>=2022.8.12 in /usr/local/lib/python3.11/dist-packages (from scikit-image>=0.12->lime) (2025.3.13)\n",
      "Requirement already satisfied: packaging>=21 in /usr/local/lib/python3.11/dist-packages (from scikit-image>=0.12->lime) (24.2)\n",
      "Requirement already satisfied: lazy-loader>=0.4 in /usr/local/lib/python3.11/dist-packages (from scikit-image>=0.12->lime) (0.4)\n",
      "Requirement already satisfied: joblib>=1.2.0 in /usr/local/lib/python3.11/dist-packages (from scikit-learn>=0.18->lime) (1.4.2)\n",
      "Requirement already satisfied: threadpoolctl>=3.1.0 in /usr/local/lib/python3.11/dist-packages (from scikit-learn>=0.18->lime) (3.6.0)\n",
      "Requirement already satisfied: contourpy>=1.0.1 in /usr/local/lib/python3.11/dist-packages (from matplotlib->lime) (1.3.1)\n",
      "Requirement already satisfied: cycler>=0.10 in /usr/local/lib/python3.11/dist-packages (from matplotlib->lime) (0.12.1)\n",
      "Requirement already satisfied: fonttools>=4.22.0 in /usr/local/lib/python3.11/dist-packages (from matplotlib->lime) (4.56.0)\n",
      "Requirement already satisfied: kiwisolver>=1.3.1 in /usr/local/lib/python3.11/dist-packages (from matplotlib->lime) (1.4.8)\n",
      "Requirement already satisfied: pyparsing>=2.3.1 in /usr/local/lib/python3.11/dist-packages (from matplotlib->lime) (3.2.1)\n",
      "Requirement already satisfied: python-dateutil>=2.7 in /usr/local/lib/python3.11/dist-packages (from matplotlib->lime) (2.8.2)\n",
      "Requirement already satisfied: six>=1.5 in /usr/local/lib/python3.11/dist-packages (from python-dateutil>=2.7->matplotlib->lime) (1.17.0)\n",
      "Requirement already satisfied: ucimlrepo in /usr/local/lib/python3.11/dist-packages (0.0.7)\n",
      "Requirement already satisfied: pandas>=1.0.0 in /usr/local/lib/python3.11/dist-packages (from ucimlrepo) (2.2.2)\n",
      "Requirement already satisfied: certifi>=2020.12.5 in /usr/local/lib/python3.11/dist-packages (from ucimlrepo) (2025.1.31)\n",
      "Requirement already satisfied: numpy>=1.23.2 in /usr/local/lib/python3.11/dist-packages (from pandas>=1.0.0->ucimlrepo) (2.0.2)\n",
      "Requirement already satisfied: python-dateutil>=2.8.2 in /usr/local/lib/python3.11/dist-packages (from pandas>=1.0.0->ucimlrepo) (2.8.2)\n",
      "Requirement already satisfied: pytz>=2020.1 in /usr/local/lib/python3.11/dist-packages (from pandas>=1.0.0->ucimlrepo) (2025.1)\n",
      "Requirement already satisfied: tzdata>=2022.7 in /usr/local/lib/python3.11/dist-packages (from pandas>=1.0.0->ucimlrepo) (2025.1)\n",
      "Requirement already satisfied: six>=1.5 in /usr/local/lib/python3.11/dist-packages (from python-dateutil>=2.8.2->pandas>=1.0.0->ucimlrepo) (1.17.0)\n"
     ]
    }
   ],
   "source": [
    "import pandas as pd\n",
    "import numpy as np\n",
    "import matplotlib.pyplot as plt\n",
    "\n",
    "from sklearn.model_selection import train_test_split\n",
    "from sklearn import metrics\n",
    "from sklearn.metrics import ConfusionMatrixDisplay\n",
    "from sklearn.ensemble import RandomForestClassifier\n",
    "\n",
    "!pip install lime\n",
    "from lime import lime_tabular\n",
    "from sklearn.inspection import permutation_importance\n",
    "\n",
    "# Below is a new package needed for this lab\n",
    "!pip install ucimlrepo\n",
    "from ucimlrepo import fetch_ucirepo"
   ]
  },
  {
   "cell_type": "markdown",
   "metadata": {
    "id": "r4A9sts1JrTc"
   },
   "source": [
    "# Lab 3: Decision Trees and Random Forests (100 Points)"
   ]
  },
  {
   "cell_type": "markdown",
   "metadata": {},
   "source": [
    "[![Open In Colab](https://colab.research.google.com/assets/colab-badge.svg)](https://colab.research.google.com/drive/17jL6-gLQWYkZJZGzAduIlU4YET0u2Ek-?usp=sharing)"
   ]
  },
  {
   "cell_type": "markdown",
   "metadata": {
    "id": "v2MiKceoh6yF"
   },
   "source": [
    "The goal of this lab is to optimize Decision Tree and Random Forest models using the provided dataset on census level data. Your goal is to build a Random Forest Classifier to be able to predict income levels above or below 50k.\n",
    "\n",
    "The guidance this week is less prescriptive in terms of steps, so use the skills you have gained over the semester to build and evaluate your models. You will be graded on your model building, interpretation of the results and explanation of model selection. As always, you are welcome to rely on your classmates but submit your own code. Lastly, there are likely several correct approaches involving a variety of different conclusions, just make sure your conclusions are supported by your approach."
   ]
  },
  {
   "cell_type": "markdown",
   "metadata": {
    "id": "NRIThjiWiZcj"
   },
   "source": [
    "\n",
    "The dataset should be familiar as it's the census data, on 48,000+ individuals with a variety of variables and a target variable for above or below 50k in salary."
   ]
  },
  {
   "cell_type": "markdown",
   "metadata": {
    "id": "rcS_RpJ-D2JS"
   },
   "source": [
    "![](https://www.coopercenter.org/sites/default/files/styles/wide/public/wordpress_import/Figure1CesnsuBlog2-1024x512_0.png?itok=DwYqkfFm)"
   ]
  },
  {
   "cell_type": "markdown",
   "metadata": {
    "id": "UGBaGTi8EDy1"
   },
   "source": [
    "Look through the data dictionary at its source link: https://archive.ics.uci.edu/ml/datasets/Adult"
   ]
  },
  {
   "cell_type": "markdown",
   "metadata": {
    "id": "h_LpB5eWiTF0"
   },
   "source": [
    "# **Part 1: Data Preparation and EDA (15 points)**"
   ]
  },
  {
   "cell_type": "markdown",
   "metadata": {
    "id": "lJdA3izfjZKn"
   },
   "source": [
    "In a text cell, answer the following exploratory questions and support your observations with any code, if needed."
   ]
  },
  {
   "cell_type": "markdown",
   "metadata": {
    "id": "m4xxMTbVTIUP"
   },
   "source": [
    "## **Question 1 (2 points):**\n",
    "## Read in the features (X) as a Pandas DataFrame. Show the first 5 rows of the features. How many rows do you have?\n",
    "\n"
   ]
  },
  {
   "cell_type": "code",
   "execution_count": 11,
   "metadata": {
    "id": "tR9XKw-xiZN8"
   },
   "outputs": [],
   "source": [
    "# Fetch dataset\n",
    "adult = fetch_ucirepo(id=2)\n",
    "\n",
    "X = adult.data.features\n",
    "y = adult.data.targets"
   ]
  },
  {
   "cell_type": "code",
   "execution_count": 11,
   "metadata": {
    "id": "HefBwSXYnjdW"
   },
   "outputs": [],
   "source": []
  },
  {
   "cell_type": "markdown",
   "metadata": {
    "id": "IGjYDY6O-EIT"
   },
   "source": [
    "**There is a total of...**"
   ]
  },
  {
   "cell_type": "markdown",
   "metadata": {
    "id": "lGZ8stUWmnjx"
   },
   "source": [
    "## **Question 2 (2 points):**\n",
    "## Are there any potential issues in the data or target that need to be corrected? Why are they issues? What specific method would you use to correct them and why?\n",
    "\n",
    "## Consider using code and reading the data description (https://archive.ics.uci.edu/dataset/2/adult) to explore:\n",
    "\n",
    "*   Assumptions and ranges of collected data\n",
    "*   Missing values (impute? drop?)\n",
    "*   Numerical data types represented as strings\n",
    "*   Encoding categorical data appropriately\n",
    "*   Normalization\n",
    "*   Standardization\n",
    "\n",
    "## You will not need to consider feature imbalances or sampling in part 1 or 2 of the lab."
   ]
  },
  {
   "cell_type": "code",
   "execution_count": 11,
   "metadata": {
    "id": "MeiqvF3Bvhd_"
   },
   "outputs": [],
   "source": []
  },
  {
   "cell_type": "markdown",
   "metadata": {
    "id": "CHa_7vvUvhmx"
   },
   "source": [
    "**Potential Issues:** Potential issues I've identified are...."
   ]
  },
  {
   "cell_type": "markdown",
   "metadata": {
    "id": "j2jZGG56tWJL"
   },
   "source": [
    "## **Question 3 (6 points):**\n",
    "## Preprocess the data according to the issues and correction methods you've identified. Save the new features and target variable (if necessary) as X_clean and y_clean."
   ]
  },
  {
   "cell_type": "code",
   "execution_count": 11,
   "metadata": {
    "id": "9w3aWLHutsO_"
   },
   "outputs": [],
   "source": []
  },
  {
   "cell_type": "markdown",
   "metadata": {
    "id": "o8-qUf-awWxQ"
   },
   "source": [
    "## **Question 4 (5 points):**\n",
    "## Create 2 versions of y_clean to create a new target response of whether income is above or below $50,000 for classification.\n",
    "\n",
    "1.   **y_clean_binary:** Recode y_clean to be 1 if the target is over or equal to\n",
    "2.   **y_clean_string:** Recode y_clean to be \"Above or Equal\" if the target is over or equal to 50,000 and \"Below\" if under.\n",
    "\n"
   ]
  },
  {
   "cell_type": "code",
   "execution_count": 11,
   "metadata": {
    "id": "S1qN_IGBw6Pk"
   },
   "outputs": [],
   "source": []
  },
  {
   "cell_type": "markdown",
   "metadata": {
    "id": "15fvjC_zJwzl"
   },
   "source": [
    "# **Part 2: Decision Tree Pruning, Tuning and Evaluation (30 Points)**"
   ]
  },
  {
   "cell_type": "markdown",
   "metadata": {
    "id": "iROGO6AfxF_o"
   },
   "source": [
    "## **Question 1 (5 points):**\n",
    "## Create a function to take in a feature variable (X) and (y). In this function, create a train test split with a random seed of 3001.\n",
    "\n",
    "## Use a vanilla decision tree model to fit the model on the train set and predict on the test set. Print the precision, recall, and accuracy of the model after prediction.\n",
    "\n",
    "## Test that your function runs on both y_clean_binary and y_clean_string. For any of the following questions, you may use whichever y_clean variable you'd like.\n"
   ]
  },
  {
   "cell_type": "code",
   "execution_count": 11,
   "metadata": {
    "id": "54bGHi5ljxVh"
   },
   "outputs": [],
   "source": []
  },
  {
   "cell_type": "markdown",
   "metadata": {
    "id": "5eab2kFezHc1"
   },
   "source": [
    "## **Question 2 (5 points):**\n",
    "## Adjust your function to include some plotting features. After your prediction code, plot:\n",
    "\n",
    "1.   A visualization of the resulting decision tree\n",
    "2.   A confusion matrix of the results\n",
    "\n",
    "## Your tree might be overwhelming or very large! If it is too large to be interpreted, constrain the max_depth parameter manually to 5 or less."
   ]
  },
  {
   "cell_type": "code",
   "execution_count": 11,
   "metadata": {
    "id": "C4h0vpoH0KHy"
   },
   "outputs": [],
   "source": []
  },
  {
   "cell_type": "markdown",
   "metadata": {
    "id": "deZSWbPc0QrG"
   },
   "source": [
    "## **Question 3 (5 points):**\n",
    "## Create a sorted list of feature importances and comment on the top features.Are there a few that seem to be more important than the others?\n",
    "\n",
    "## Plot your feature importances in a horizontal or vertical bar chart from most to least important. Label each bar with its feature importance rounded to the nearest integer (ie: 30%)."
   ]
  },
  {
   "cell_type": "code",
   "execution_count": 11,
   "metadata": {
    "id": "IZFXl7yg1H_e"
   },
   "outputs": [],
   "source": []
  },
  {
   "cell_type": "markdown",
   "metadata": {
    "id": "8TIl43ki1KfJ"
   },
   "source": [
    "## **Question 4 (5 points):**\n",
    "## Write at least 5 sentences interpreting the results of your decision tree, confusion matrix, and feature importance visualizations.\n",
    "\n",
    "## Is there any aspect of your results that you are uncertain or unsure of?"
   ]
  },
  {
   "cell_type": "markdown",
   "metadata": {
    "id": "-iAevtjt1qH1"
   },
   "source": [
    "**My results show...**"
   ]
  },
  {
   "cell_type": "markdown",
   "metadata": {
    "id": "suVYIRfZ13wa"
   },
   "source": [
    "## **Question 5 (5 points):**\n",
    "## Finally, we will create a new function to tune your decision tree to get more accurate and efficient results. Update your function to take in several new parameters with these default values:\n",
    "* criterion_val ='gini'\n",
    "* splitter_val ='best'\n",
    "* max_depth_val = None\n",
    "* min_samples_split_val = 2\n",
    "* min_samples_leaf_val =1\n",
    "\n",
    "## Pass your own variable into the decision tree by specifying what sklearn parameter you are trying to tune. This will simply be the parameter without the \"_val\" suffix.\n",
    "\n",
    "## **For example, if your vanilla decision tree variable is called clf, you would adjust it like this:**\n",
    "`clf = DecisionTreeClassifier(criterion=criterion_val, splitter=splitter_val, ...)`"
   ]
  },
  {
   "cell_type": "code",
   "execution_count": 11,
   "metadata": {
    "id": "1vVnFYpg5XsT"
   },
   "outputs": [],
   "source": []
  },
  {
   "cell_type": "markdown",
   "metadata": {
    "id": "GVieDlFW5ZP7"
   },
   "source": [
    "## **Question 6 (5 points):**\n",
    "\n",
    "## Call your new function with either clean y variable at least 3 times. Each time, vary the values for all the parameters and examine its effects on your tree, confusion matrix, and metrics.\n",
    "\n",
    "## You will likely want to look at documentation to see accepted values:  \n",
    "###https://scikit-learn.org/stable/modules/generated/sklearn.tree.DecisionTreeClassifier.html\n",
    "\n",
    "## Why did you pick the values you did? What combination had the best effect on accuracy? Were you surprised by any of the results?"
   ]
  },
  {
   "cell_type": "code",
   "execution_count": 11,
   "metadata": {
    "id": "CzFruwY06Cdm"
   },
   "outputs": [],
   "source": []
  },
  {
   "cell_type": "markdown",
   "metadata": {
    "id": "cU2O0tkmoaxB"
   },
   "source": [
    "# **Part 3: Random Forest and Ensembling Evaluation (40 Points)**"
   ]
  },
  {
   "cell_type": "markdown",
   "metadata": {
    "id": "i6mkGJoJ6GFw"
   },
   "source": [
    "## For Parts 3 and 4, you may pick *your own dataset* or continue with the census data.\n",
    "\n",
    "## Like above, you will want to reference the documentation as necessary:\n",
    "### https://scikit-learn.org/stable/modules/generated/sklearn.ensemble.RandomForestClassifier.html"
   ]
  },
  {
   "cell_type": "markdown",
   "metadata": {
    "id": "6MueGJiy9FCA"
   },
   "source": [
    "\n",
    "## **Data**\n",
    "## Use this space to load and call your data for Parts 3 and 4. You are welcome to use your final project data for these sections."
   ]
  },
  {
   "cell_type": "code",
   "execution_count": 11,
   "metadata": {
    "id": "yLrhnYjJ9MfU"
   },
   "outputs": [],
   "source": []
  },
  {
   "cell_type": "markdown",
   "metadata": {
    "id": "YtvUV-_-6YJI"
   },
   "source": [
    "## **Question 1 (10 points):**\n",
    "\n",
    "## Write a function to take in a feature variable (X) and a target variable (y). Create a train test split for the variables.\n",
    "\n",
    "## Finally, instantiate, fit, and predict using **both** a single Decision Tree and a Random Forest classifier. Print the accuracy, precision, and recall for both models.\n",
    "\n",
    "## Call your function and describe your baseline results.\n"
   ]
  },
  {
   "cell_type": "code",
   "execution_count": 11,
   "metadata": {
    "id": "UUKXGEdj7Gmg"
   },
   "outputs": [],
   "source": []
  },
  {
   "cell_type": "markdown",
   "metadata": {
    "id": "fokxO-rd_1iy"
   },
   "source": [
    "\n",
    "## **Question 2 (30 points):**\n",
    "## This question will ask you to tune Random Forest classifiers and preprocess your data in *any number of ways* to achieve the *best possible results you can*.\n",
    "\n",
    "## Train one vanilla Decision Forest model and one vanilla Random Forest model and store their accuracies in variables so you can use them as baselines.\n",
    "\n",
    "## Then, using functions or not, spend some time tuning at least 10 (or more) Random Forest models. Store your accuracies in a list or array and print your maximum accuracy.\n",
    "\n",
    "# **Go crazy - feel free to implement sampling, dropping features, preprocessing, new parameters, whatever might boost your accuracy.**\n",
    "\n",
    "# **The top 5 best accuracies in the class will get +15 on their individual lab grade!**"
   ]
  },
  {
   "cell_type": "code",
   "execution_count": 11,
   "metadata": {
    "id": "BoIceowS96Sc"
   },
   "outputs": [],
   "source": []
  },
  {
   "cell_type": "markdown",
   "metadata": {
    "id": "F062_6a-uWcP"
   },
   "source": [
    "# **Part 4: Ensemble Model Interpretation and Reflection (15 Points)**"
   ]
  },
  {
   "cell_type": "markdown",
   "metadata": {
    "id": "bHehwo4A9kC6"
   },
   "source": [
    "\n",
    "## **Question 1 (5 points):**\n",
    "## Create a plot that summarizes the results of your experiments and how they compare to the results of your baseline Decision Tree and Random Forest model.\n",
    "\n",
    "## You may visualize your results in any type of plot you see fit. Color code your visual in some way so that models that did better than the baseline Random Forest are distinguished from models that did worse."
   ]
  },
  {
   "cell_type": "code",
   "execution_count": 11,
   "metadata": {
    "id": "dbP54dpqAwhj"
   },
   "outputs": [],
   "source": []
  },
  {
   "cell_type": "markdown",
   "metadata": {
    "id": "rSi6oVEUA08m"
   },
   "source": [
    "## **Question 2 (5 points):**\n",
    "## Write 10 or more sentences on what parameters had the biggest effect or did not seem to effect your results. Did any parameter choices make your results worse than your vanilla model?"
   ]
  },
  {
   "cell_type": "markdown",
   "metadata": {
    "id": "maS0GW-T_OWn"
   },
   "source": [
    "**The parameters I chose...**"
   ]
  },
  {
   "cell_type": "markdown",
   "metadata": {
    "id": "1WgKg9RQBM6I"
   },
   "source": [
    "## **Question 3 (5 points):**\n",
    "## Write 10 or more sentences reflecting on the tuning process.\n",
    "\n",
    "## What kind of approach did you take? Was it random combinations or more structured? Did you change your approach after seeing your initial results?\n",
    "\n",
    "## What kind of strategies in preprocessing and picking parameters (ie: brute forcing parameters, testing various values in a range) do you think would get some of the best scores in the class?"
   ]
  },
  {
   "cell_type": "markdown",
   "metadata": {
    "id": "_SHxosC2BhTJ"
   },
   "source": [
    "**My approach to tuning...**"
   ]
  },
  {
   "cell_type": "markdown",
   "metadata": {
    "id": "x1KiVMvjNKGU"
   },
   "source": [
    "### Honor Pledge"
   ]
  },
  {
   "cell_type": "markdown",
   "metadata": {
    "id": "Jo-hwQo5LBAk"
   },
   "source": [
    "On my honor as a student, I have neither given nor received unauthorized aid on this assignment."
   ]
  }
 ],
 "metadata": {
  "colab": {
   "provenance": []
  },
  "kernelspec": {
   "display_name": "Python 3 (ipykernel)",
   "language": "python",
   "name": "python3"
  },
  "language_info": {
   "codemirror_mode": {
    "name": "ipython",
    "version": 3
   },
   "file_extension": ".py",
   "mimetype": "text/x-python",
   "name": "python",
   "nbconvert_exporter": "python",
   "pygments_lexer": "ipython3",
   "version": "3.8.17"
  }
 },
 "nbformat": 4,
 "nbformat_minor": 4
}
