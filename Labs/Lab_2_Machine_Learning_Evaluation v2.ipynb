{
 "cells": [
  {
   "cell_type": "markdown",
   "metadata": {
    "id": "Hkkb_7LYKsG4"
   },
   "source": [
    "## **Name:** First Last\n",
    "\n",
    "## **Computing ID:** ID"
   ]
  },
  {
   "cell_type": "markdown",
   "metadata": {
    "id": "r4A9sts1JrTc"
   },
   "source": [
    "# Lab 2: Machine Learning Evaluation (100 Points)"
   ]
  },
  {
   "cell_type": "markdown",
   "metadata": {},
   "source": [
    "[![Open In Colab](https://colab.research.google.com/assets/colab-badge.svg)](https://colab.research.google.com/drive/1q0ruU6KlmFv4wNBSGh73e4B6gGNUHy2E?usp=sharing)"
   ]
  },
  {
   "cell_type": "code",
   "execution_count": 4,
   "metadata": {
    "id": "1DAOPfwqMV5t"
   },
   "outputs": [
    {
     "name": "stdout",
     "output_type": "stream",
     "text": [
      "Collecting pyarrow\n",
      "  Obtaining dependency information for pyarrow from https://files.pythonhosted.org/packages/64/d9/51e35550f2f18b8815a2ab25948f735434db32000c0e91eba3a32634782a/pyarrow-17.0.0-cp38-cp38-macosx_11_0_arm64.whl.metadata\n",
      "  Downloading pyarrow-17.0.0-cp38-cp38-macosx_11_0_arm64.whl.metadata (3.3 kB)\n",
      "Requirement already satisfied: numpy>=1.16.6 in /Users/navya/miniconda3/envs/MM/lib/python3.8/site-packages (from pyarrow) (1.24.3)\n",
      "Downloading pyarrow-17.0.0-cp38-cp38-macosx_11_0_arm64.whl (27.2 MB)\n",
      "\u001b[2K   \u001b[38;2;114;156;31m━━━━━━━━━━━━━━━━━━━━━━━━━━━━━━━━━━━━━━━━\u001b[0m \u001b[32m27.2/27.2 MB\u001b[0m \u001b[31m22.9 MB/s\u001b[0m eta \u001b[36m0:00:00\u001b[0mm eta \u001b[36m0:00:01\u001b[0m[36m0:00:01\u001b[0m\n",
      "\u001b[?25hInstalling collected packages: pyarrow\n",
      "Successfully installed pyarrow-17.0.0\n"
     ]
    }
   ],
   "source": [
    "import pandas as pd\n",
    "import numpy as np\n",
    "import matplotlib.pyplot as plt\n",
    "!pip install pyarrow\n",
    "\n",
    "from sklearn.model_selection import train_test_split, cross_val_score\n",
    "from sklearn.preprocessing import label_binarize\n",
    "from sklearn.linear_model import LogisticRegression\n",
    "from sklearn.neighbors import KNeighborsClassifier\n",
    "from sklearn.metrics import accuracy_score, precision_score, recall_score, f1_score, roc_curve, auc\n",
    "from sklearn.metrics import confusion_matrix, ConfusionMatrixDisplay"
   ]
  },
  {
   "cell_type": "markdown",
   "metadata": {
    "id": "urI5bjImTH86"
   },
   "source": [
    "# **Candidate Messy Datasets for Part 1:**\n",
    "* Tidy Tuesday\n",
    "   * https://github.com/rfordatascience/tidytuesday/tree/main/data\n",
    "* Hugging Face\n",
    "   * https://huggingface.co/datasets/nateraw/airplane-crashes-and-fatalities\n",
    "* Kaggle\n",
    "   * https://www.kaggle.com/datasets/borapajo/food-choices?select=food_coded.csv\n",
    "   * https://www.kaggle.com/datasets/mahnazarjmand/breast-cancer-data?resource=download \n",
    "\n",
    "\n"
   ]
  },
  {
   "cell_type": "markdown",
   "metadata": {
    "id": "15fvjC_zJwzl"
   },
   "source": [
    "## Part 1: KNN and Regression Model Evaluation (30 Points)"
   ]
  },
  {
   "cell_type": "markdown",
   "metadata": {
    "id": "m4xxMTbVTIUP"
   },
   "source": [
    "## **Question 1 (15 points):**\n",
    "## Read in or load a dataset as a Pandas DataFrame with at least 5 features (columns) and a categorical target column.\n",
    "\n",
    "## Create a new DataFrame called clean_df that incorporates these preprocessing steps in **separate cells**. Complete each step regardless of if they have no effect on your data:\n",
    "0. Call dtypes on the DataFrame\n",
    "1. Drop rows that are completely empty\n",
    "2. Replace missing values (\"null\", 0, empty strings) with proper NaNs\n",
    "3. Impute NaNs using any method that sklearn supports\n",
    "4. Drop any features that seem highly uncorrelated to your target so long as you still retain at least 5 features\n",
    "5. Normalize and/or scale numerical columns using any method that sklearn supports\n",
    "6. Encode any categorical columns using appropriate method (ordinal, one hot encoding)\n",
    "7. Any additional preprocessing required for your data (ie: removing dollar signs from string columns and casting it is a float)"
   ]
  },
  {
   "cell_type": "code",
   "execution_count": null,
   "metadata": {
    "id": "54bGHi5ljxVh"
   },
   "outputs": [],
   "source": []
  },
  {
   "cell_type": "markdown",
   "metadata": {
    "id": "5Vg22v2m1xVS"
   },
   "source": [
    "## **Question 2 (5 points):**\n",
    "## Implement a train test split with a ratio of your choosing for the training and test datasets.\n",
    "\n",
    "## Instantiate and fit a vanilla (default) logistic regression classifier and a K-Nearest Neighbor model on your clean datasets and target.\n",
    "\n"
   ]
  },
  {
   "cell_type": "code",
   "execution_count": null,
   "metadata": {
    "id": "Cm1llxpc4IZO"
   },
   "outputs": [],
   "source": []
  },
  {
   "cell_type": "markdown",
   "metadata": {
    "id": "FgRl-CBu3GmT"
   },
   "source": [
    "## **Question 3 (5 points):**\n",
    "## Next, familiarize yourself with the sklearn documentation for each model and their parameters. Pick 2 parameters that you want to adjust from their default values in each of the models.\n",
    "* https://scikit-learn.org/stable/modules/generated/sklearn.linear_model\n",
    "* https://scikit-learn.org/stable/modules/generated/sklearn.neighbors.KNeighborsClassifier.html\n",
    "\n",
    "## Instantiate and fit a logistic regression classifier and a K-Nearest Neighbor model with these **updated** parameters on your clean datasets and target."
   ]
  },
  {
   "cell_type": "code",
   "execution_count": null,
   "metadata": {
    "id": "jtnegZDN1w7u"
   },
   "outputs": [],
   "source": []
  },
  {
   "cell_type": "markdown",
   "metadata": {
    "id": "yxuxhja8aP6T"
   },
   "source": [
    "## **Question 4 (5 points):**\n",
    "## Compile the following metrics for all 4 of your models into one DataFrame called metrics_df. Each model should have each metric reported.\n",
    "\n",
    "\n",
    "1. Accuracy Score\n",
    "2. Precision\n",
    "3. Sensitivity\n",
    "4. Specificity\n",
    "5. F1 Score\n",
    "\n",
    "\n",
    "## The first column of metrics_df has been created for you."
   ]
  },
  {
   "cell_type": "code",
   "execution_count": 2,
   "metadata": {
    "colab": {
     "base_uri": "https://localhost:8080/",
     "height": 175
    },
    "id": "o-W4C12jaRU5",
    "outputId": "461730dd-f4c3-4502-c979-53730450c241"
   },
   "outputs": [
    {
     "data": {
      "text/html": [
       "<div>\n",
       "<style scoped>\n",
       "    .dataframe tbody tr th:only-of-type {\n",
       "        vertical-align: middle;\n",
       "    }\n",
       "\n",
       "    .dataframe tbody tr th {\n",
       "        vertical-align: top;\n",
       "    }\n",
       "\n",
       "    .dataframe thead th {\n",
       "        text-align: right;\n",
       "    }\n",
       "</style>\n",
       "<table border=\"1\" class=\"dataframe\">\n",
       "  <thead>\n",
       "    <tr style=\"text-align: right;\">\n",
       "      <th></th>\n",
       "      <th>Accuracy Score</th>\n",
       "    </tr>\n",
       "  </thead>\n",
       "  <tbody>\n",
       "    <tr>\n",
       "      <th>Default Logistic Regression</th>\n",
       "      <td>0</td>\n",
       "    </tr>\n",
       "    <tr>\n",
       "      <th>Default KNN</th>\n",
       "      <td>0</td>\n",
       "    </tr>\n",
       "    <tr>\n",
       "      <th>Updated Logistic Regression</th>\n",
       "      <td>0</td>\n",
       "    </tr>\n",
       "    <tr>\n",
       "      <th>Updated KNN</th>\n",
       "      <td>0</td>\n",
       "    </tr>\n",
       "  </tbody>\n",
       "</table>\n",
       "</div>"
      ],
      "text/plain": [
       "                             Accuracy Score\n",
       "Default Logistic Regression               0\n",
       "Default KNN                               0\n",
       "Updated Logistic Regression               0\n",
       "Updated KNN                               0"
      ]
     },
     "execution_count": 2,
     "metadata": {},
     "output_type": "execute_result"
    }
   ],
   "source": [
    "model_strings = [\"Default Logistic Regression\", \"Default KNN\", \"Updated Logistic Regression\", \"Updated KNN\"]\n",
    "metrics_df = pd.DataFrame(index=model_strings)\n",
    "metrics_df[\"Accuracy Score\"] = [0, 0, 0, 0]\n",
    "metrics_df"
   ]
  },
  {
   "cell_type": "markdown",
   "metadata": {
    "id": "cU2O0tkmoaxB"
   },
   "source": [
    "## Part 2: KNN and Regression Model Evaluation (30 Points)"
   ]
  },
  {
   "cell_type": "markdown",
   "metadata": {
    "id": "_9GjZW0ZpZvs"
   },
   "source": [
    "Let's do some very basic computer vision. We're going to import the MNIST handwritten digits data and NN to predict values (i.e. \"see/read\").\n",
    "\n",
    "The MNIST dataset target value is the number represented by the handwritten digit (ie: 1 to 9).\n",
    "\n",
    "Run the following cells to download the images and encode them."
   ]
  },
  {
   "cell_type": "code",
   "execution_count": null,
   "metadata": {
    "id": "XoGaAAQGpVlD"
   },
   "outputs": [],
   "source": [
    "from keras.datasets import mnist\n",
    "\n",
    "train, test = mnist.load_data('mnist.db')\n",
    "X_train, y_train = train\n",
    "X_test, y_test = test"
   ]
  },
  {
   "cell_type": "code",
   "execution_count": null,
   "metadata": {
    "colab": {
     "base_uri": "https://localhost:8080/",
     "height": 968
    },
    "id": "4nKwqZwUpdU3",
    "outputId": "ebb600e6-5ba1-4320-bcba-1d79cf100ddd"
   },
   "outputs": [
    {
     "name": "stdout",
     "output_type": "stream",
     "text": [
      "7 \n",
      "\n",
      "[[  0   0   0   0   0   0   0   0   0   0   0   0   0   0   0   0   0   0   0   0   0   0   0   0   0   0   0   0]\n",
      " [  0   0   0   0   0   0   0   0   0   0   0   0   0   0   0   0   0   0   0   0   0   0   0   0   0   0   0   0]\n",
      " [  0   0   0   0   0   0   0   0   0   0   0   0   0   0   0   0   0   0   0   0   0   0   0   0   0   0   0   0]\n",
      " [  0   0   0   0   0   0   0   0   0   0   0   0   0   0   0   0   0   0   0   0   0   0   0   0   0   0   0   0]\n",
      " [  0   0   0   0   0   0   0   0   0   0   0   0   0   0   0   0   0   0   0   0   0   0   0   0   0   0   0   0]\n",
      " [  0   0   0   0   0   0   0   0   0   0   0   0   0   0   0   0   0   0   0   0   0   0   0   0   0   0   0   0]\n",
      " [  0   0   0   0   0   0   0   0   0   0   0   0   0   0   0   0   0   0   0   0   0   0   0   0   0   0   0   0]\n",
      " [  0   0   0   0   0   0  84 185 159 151  60  36   0   0   0   0   0   0   0   0   0   0   0   0   0   0   0   0]\n",
      " [  0   0   0   0   0   0 222 254 254 254 254 241 198 198 198 198 198 198 198 198 170  52   0   0   0   0   0   0]\n",
      " [  0   0   0   0   0   0  67 114  72 114 163 227 254 225 254 254 254 250 229 254 254 140   0   0   0   0   0   0]\n",
      " [  0   0   0   0   0   0   0   0   0   0   0  17  66  14  67  67  67  59  21 236 254 106   0   0   0   0   0   0]\n",
      " [  0   0   0   0   0   0   0   0   0   0   0   0   0   0   0   0   0   0  83 253 209  18   0   0   0   0   0   0]\n",
      " [  0   0   0   0   0   0   0   0   0   0   0   0   0   0   0   0   0  22 233 255  83   0   0   0   0   0   0   0]\n",
      " [  0   0   0   0   0   0   0   0   0   0   0   0   0   0   0   0   0 129 254 238  44   0   0   0   0   0   0   0]\n",
      " [  0   0   0   0   0   0   0   0   0   0   0   0   0   0   0   0  59 249 254  62   0   0   0   0   0   0   0   0]\n",
      " [  0   0   0   0   0   0   0   0   0   0   0   0   0   0   0   0 133 254 187   5   0   0   0   0   0   0   0   0]\n",
      " [  0   0   0   0   0   0   0   0   0   0   0   0   0   0   0   9 205 248  58   0   0   0   0   0   0   0   0   0]\n",
      " [  0   0   0   0   0   0   0   0   0   0   0   0   0   0   0 126 254 182   0   0   0   0   0   0   0   0   0   0]\n",
      " [  0   0   0   0   0   0   0   0   0   0   0   0   0   0  75 251 240  57   0   0   0   0   0   0   0   0   0   0]\n",
      " [  0   0   0   0   0   0   0   0   0   0   0   0   0  19 221 254 166   0   0   0   0   0   0   0   0   0   0   0]\n",
      " [  0   0   0   0   0   0   0   0   0   0   0   0   3 203 254 219  35   0   0   0   0   0   0   0   0   0   0   0]\n",
      " [  0   0   0   0   0   0   0   0   0   0   0   0  38 254 254  77   0   0   0   0   0   0   0   0   0   0   0   0]\n",
      " [  0   0   0   0   0   0   0   0   0   0   0  31 224 254 115   1   0   0   0   0   0   0   0   0   0   0   0   0]\n",
      " [  0   0   0   0   0   0   0   0   0   0   0 133 254 254  52   0   0   0   0   0   0   0   0   0   0   0   0   0]\n",
      " [  0   0   0   0   0   0   0   0   0   0  61 242 254 254  52   0   0   0   0   0   0   0   0   0   0   0   0   0]\n",
      " [  0   0   0   0   0   0   0   0   0   0 121 254 254 219  40   0   0   0   0   0   0   0   0   0   0   0   0   0]\n",
      " [  0   0   0   0   0   0   0   0   0   0 121 254 207  18   0   0   0   0   0   0   0   0   0   0   0   0   0   0]\n",
      " [  0   0   0   0   0   0   0   0   0   0   0   0   0   0   0   0   0   0   0   0   0   0   0   0   0   0   0   0]] \n",
      "\n"
     ]
    },
    {
     "data": {
      "image/png": "[encoded data removed]",
      "text/plain": [
       "<Figure size 640x480 with 1 Axes>"
      ]
     },
     "metadata": {},
     "output_type": "display_data"
    }
   ],
   "source": [
    "item_index = 0\n",
    "print(y_test[item_index],'\\n') # Print the label\n",
    "print(X_test[item_index],'\\n') # Print the matrix of values\n",
    "plt.contourf(np.rot90(X_test[item_index].transpose())) # Make a contour plot of the matrix values\n",
    "plt.show()"
   ]
  },
  {
   "cell_type": "code",
   "execution_count": null,
   "metadata": {
    "colab": {
     "base_uri": "https://localhost:8080/",
     "height": 968
    },
    "id": "vPfzjFTSpw9y",
    "outputId": "a0e4bd98-afc7-4739-c0df-0298f1ab1848"
   },
   "outputs": [
    {
     "name": "stdout",
     "output_type": "stream",
     "text": [
      "1 \n",
      "\n",
      "[[  0   0   0   0   0   0   0   0   0   0   0   0   0   0   0   0   0   0   0   0   0   0   0   0   0   0   0   0]\n",
      " [  0   0   0   0   0   0   0   0   0   0   0   0   0   0   0   0   0   0   0   0   0   0   0   0   0   0   0   0]\n",
      " [  0   0   0   0   0   0   0   0   0   0   0   0   0   0   0   0   0   0   0   0   0   0   0   0   0   0   0   0]\n",
      " [  0   0   0   0   0   0   0   0   0   0   0   0   0   0   0   0   0   0   0   0   0   0   0   0   0   0   0   0]\n",
      " [  0   0   0   0   0   0   0   0   0   0   0   0   0   0   0   0   0   0   0   0   0   0   0   0   0   0   0   0]\n",
      " [  0   0   0   0   0   0   0   0   0   0   0   0   0   0   0   0  77 254 107   3   0   0   0   0   0   0   0   0]\n",
      " [  0   0   0   0   0   0   0   0   0   0   0   0   0   0   0  19 227 254 254   9   0   0   0   0   0   0   0   0]\n",
      " [  0   0   0   0   0   0   0   0   0   0   0   0   0   0   0  81 254 254 165   1   0   0   0   0   0   0   0   0]\n",
      " [  0   0   0   0   0   0   0   0   0   0   0   0   0   0   7 203 254 254  73   0   0   0   0   0   0   0   0   0]\n",
      " [  0   0   0   0   0   0   0   0   0   0   0   0   0   0  53 254 254 250   0   0   0   0   0   0   0   0   0   0]\n",
      " [  0   0   0   0   0   0   0   0   0   0   0   0   0   0 134 254 254 180   0   0   0   0   0   0   0   0   0   0]\n",
      " [  0   0   0   0   0   0   0   0   0   0   0   0   0   0 196 254 248  48   0   0   0   0   0   0   0   0   0   0]\n",
      " [  0   0   0   0   0   0   0   0   0   0   0   0   0  58 254 254 237   0   0   0   0   0   0   0   0   0   0   0]\n",
      " [  0   0   0   0   0   0   0   0   0   0   0   0   0 111 254 254 132   0   0   0   0   0   0   0   0   0   0   0]\n",
      " [  0   0   0   0   0   0   0   0   0   0   0   0   0 163 254 238  28   0   0   0   0   0   0   0   0   0   0   0]\n",
      " [  0   0   0   0   0   0   0   0   0   0   0   0  60 252 254 223   0   0   0   0   0   0   0   0   0   0   0   0]\n",
      " [  0   0   0   0   0   0   0   0   0   0   0   0  79 254 254 154   0   0   0   0   0   0   0   0   0   0   0   0]\n",
      " [  0   0   0   0   0   0   0   0   0   0   0   0 163 254 238  53   0   0   0   0   0   0   0   0   0   0   0   0]\n",
      " [  0   0   0   0   0   0   0   0   0   0   0  28 252 254 210   0   0   0   0   0   0   0   0   0   0   0   0   0]\n",
      " [  0   0   0   0   0   0   0   0   0   0   0  86 254 254 131   0   0   0   0   0   0   0   0   0   0   0   0   0]\n",
      " [  0   0   0   0   0   0   0   0   0   0   0 105 254 234  20   0   0   0   0   0   0   0   0   0   0   0   0   0]\n",
      " [  0   0   0   0   0   0   0   0   0   0   0 175 254 204   5   0   0   0   0   0   0   0   0   0   0   0   0   0]\n",
      " [  0   0   0   0   0   0   0   0   0   0   5 211 254 196   0   0   0   0   0   0   0   0   0   0   0   0   0   0]\n",
      " [  0   0   0   0   0   0   0   0   0   0   3 158 254 160   0   0   0   0   0   0   0   0   0   0   0   0   0   0]\n",
      " [  0   0   0   0   0   0   0   0   0   0   0  26 157 107   0   0   0   0   0   0   0   0   0   0   0   0   0   0]\n",
      " [  0   0   0   0   0   0   0   0   0   0   0   0   0   0   0   0   0   0   0   0   0   0   0   0   0   0   0   0]\n",
      " [  0   0   0   0   0   0   0   0   0   0   0   0   0   0   0   0   0   0   0   0   0   0   0   0   0   0   0   0]\n",
      " [  0   0   0   0   0   0   0   0   0   0   0   0   0   0   0   0   0   0   0   0   0   0   0   0   0   0   0   0]] \n",
      "\n"
     ]
    },
    {
     "data": {
      "image/png": "[encoded data removed]",
      "text/plain": [
       "<Figure size 640x480 with 1 Axes>"
      ]
     },
     "metadata": {},
     "output_type": "display_data"
    }
   ],
   "source": [
    "item_index = 5\n",
    "print(y_test[item_index],'\\n') # Print the label\n",
    "print(X_test[item_index],'\\n') # Print the matrix of values\n",
    "plt.contourf(np.rot90(X_test[item_index].transpose())) # Make a contour plot of the matrix values\n",
    "plt.show()"
   ]
  },
  {
   "cell_type": "markdown",
   "metadata": {
    "id": "e1jxcmwWsB1R"
   },
   "source": [
    "We will use an already denoised and preprocessed version of the training data."
   ]
  },
  {
   "cell_type": "code",
   "execution_count": 5,
   "metadata": {
    "id": "zPEgJwD4sC4a"
   },
   "outputs": [],
   "source": [
    "Z_train = pd.read_parquet('data/Z_train.parquet', engine='pyarrow')\n",
    "Z_test = pd.read_parquet('data/Z_test.parquet', engine='pyarrow')"
   ]
  },
  {
   "cell_type": "markdown",
   "metadata": {
    "id": "SOk01CRXqBN_"
   },
   "source": [
    "## **Question 1 (5 points):**\n",
    "## What is the shape of X_train and X_test?\n",
    "\n",
    "## What is the shape of X_train[i] and X_test[i] for each index i?\n",
    "Hint: All elements of X_train and X_test have the same shape, so you can report the shape of just the first element (i=0)\n",
    "\n",
    "## What is the shape of Z_train and Z_test?\n",
    "\n",
    "## What is the shape of y_train and y_test?\n",
    "\n",
    "## Call the shape function in the code cell below and list your final answers in a text markdown cell."
   ]
  },
  {
   "cell_type": "code",
   "execution_count": 18,
   "metadata": {
    "id": "g25naDsmp8CA"
   },
   "outputs": [],
   "source": []
  },
  {
   "cell_type": "markdown",
   "metadata": {
    "id": "uusnsa7-qOFf"
   },
   "source": [
    "[Insert Text Here]"
   ]
  },
  {
   "cell_type": "markdown",
   "metadata": {
    "id": "0BX5TSG-qXDZ"
   },
   "source": [
    "## **Question 2 (5 points):**\n",
    "## Run the cell below to determine the optimal k number of neighbors from the outputted graph. Report the optimal number and why you believe it is the optimal number in the text markdown cell."
   ]
  },
  {
   "cell_type": "code",
   "execution_count": null,
   "metadata": {
    "id": "O-ya9_rdu3o6"
   },
   "outputs": [],
   "source": [
    "k_bar = 10\n",
    "k_grid = np.arange(0, k_bar) # The range of k's to consider\n",
    "accuracy = np.zeros(k_bar) # Empty list of accuracies for each k to update"
   ]
  },
  {
   "cell_type": "code",
   "execution_count": null,
   "metadata": {
    "colab": {
     "base_uri": "https://localhost:8080/",
     "height": 663
    },
    "id": "sJ6E28rHq7OS",
    "outputId": "c0348294-8329-45a0-afd9-60be5e9ffd88"
   },
   "outputs": [
    {
     "name": "stdout",
     "output_type": "stream",
     "text": [
      "Fitting k=0\n",
      "Fitting k=1\n",
      "Fitting k=2\n",
      "Fitting k=3\n",
      "Fitting k=4\n",
      "Fitting k=5\n",
      "Fitting k=6\n",
      "Fitting k=7\n",
      "Fitting k=8\n",
      "Fitting k=9\n",
      "[2]\n"
     ]
    },
    {
     "data": {
      "image/png": "[encoded data removed]",
      "text/plain": [
       "<Figure size 640x480 with 1 Axes>"
      ]
     },
     "metadata": {},
     "output_type": "display_data"
    }
   ],
   "source": [
    "for k in range(k_bar):\n",
    "    print(f\"Fitting k={k}\")\n",
    "    knn = KNeighborsClassifier(n_neighbors=k+1)\n",
    "    predictor = knn.fit(Z_train.values,y_train)\n",
    "    accuracy[k] = knn.score(Z_test.values,y_test)\n",
    "\n",
    "accuracy_max = np.max(accuracy) # Highest recorded accuracy\n",
    "max_index = np.where(accuracy==accuracy_max)\n",
    "k_star = k_grid[max_index] # Find the optimal value of k\n",
    "print(k_star)\n",
    "\n",
    "plt.plot(np.arange(0,k_bar),accuracy) # Plot accuracy by k\n",
    "plt.xlabel(\"k\")\n",
    "plt.title(\"Optimal k:\"+str(k_star))\n",
    "plt.ylabel('Accuracy')\n",
    "plt.show()"
   ]
  },
  {
   "cell_type": "markdown",
   "metadata": {
    "id": "tGDt_a3vvNeq"
   },
   "source": [
    "[Insert Text Here]"
   ]
  },
  {
   "cell_type": "markdown",
   "metadata": {
    "id": "BFOpWCyOvaim"
   },
   "source": [
    "## **Question 3 (10 points):**\n",
    "## Instantiate and fit a KNN classifier with the optimal number of neighbors from above. Call predict on this KNN model using Z_test. Plot a confusion matrix for the KNN's performance on the test dataset using sklearn's ConfusionMatrixDisplay function.\n",
    "\n",
    "## In a text markdown cell, explain which mistakes are most likely according to your confusion matrix. Which digits are more likely to be confused for each other? Do you find any interesting patterns?\n",
    "Write a minimum of 5 sentences."
   ]
  },
  {
   "cell_type": "code",
   "execution_count": null,
   "metadata": {
    "id": "vmjrZAP0GaT-"
   },
   "outputs": [],
   "source": []
  },
  {
   "cell_type": "markdown",
   "metadata": {
    "id": "rlUNtItg3psW"
   },
   "source": [
    "[Insert Text Here]"
   ]
  },
  {
   "cell_type": "markdown",
   "metadata": {
    "id": "INtQPdNZw22K"
   },
   "source": [
    "## **Question 4 (10 points):**\n",
    "## ROC curves are typically used to distinguish between two classes by plotting the true positive rate (TPR) against the false positive rate (FPR) at different threshold settings. We will recode the target labels to be only 2 classes: \"8\" or \"not 8\"\n",
    "\n",
    "## Fit a new KNN using binary_y_train and call predict using binary_y_test. Plot the ROC curve and print the AUC score for the new binary data whose code is below.\n",
    "\n",
    "## Write 2 sentences on how to interpret the resulting ROC curve."
   ]
  },
  {
   "cell_type": "code",
   "execution_count": null,
   "metadata": {
    "id": "eD36jVC_87Of"
   },
   "outputs": [],
   "source": [
    "def recode_array(arr, value):\n",
    "  recoded = np.where(arr == value, 1, 0)\n",
    "  return recoded"
   ]
  },
  {
   "cell_type": "code",
   "execution_count": null,
   "metadata": {
    "id": "8pxwnxcd9T40"
   },
   "outputs": [],
   "source": [
    "binary_y_train = recode_array(y_train, 8)\n",
    "binary_y_test = recode_array(y_test, 8)"
   ]
  },
  {
   "cell_type": "code",
   "execution_count": null,
   "metadata": {
    "colab": {
     "base_uri": "https://localhost:8080/"
    },
    "id": "VTkXESSx9Iku",
    "outputId": "45f0c6eb-88ce-4596-8921-f6af74d847b0"
   },
   "outputs": [
    {
     "data": {
      "text/plain": [
       "array([5, 0, 4, 1, 9, 2, 1, 3, 1, 4, 3, 5, 3, 6, 1, 7, 2, 8, 6, 9, 4, 0, 9, 1, 1, 2, 4, 3, 2, 7, ..., 2, 2, 0, 9, 2, 4, 6, 7, 3, 1, 3, 6, 6, 2, 1, 2, 6, 0, 7, 8, 9, 2, 9, 5, 1, 8, 3, 5, 6, 8], dtype=uint8)"
      ]
     },
     "execution_count": 110,
     "metadata": {},
     "output_type": "execute_result"
    }
   ],
   "source": [
    "# Original target: all digits 0 to 9\n",
    "y_train"
   ]
  },
  {
   "cell_type": "code",
   "execution_count": null,
   "metadata": {
    "colab": {
     "base_uri": "https://localhost:8080/"
    },
    "id": "i91oKrj85fv2",
    "outputId": "efb4bde4-bf72-4f9c-c9cc-15ddf24435e3"
   },
   "outputs": [
    {
     "data": {
      "text/plain": [
       "array([0, 0, 0, 0, 0, 0, 0, 0, 0, 0, 0, 0, 0, 0, 0, 0, 0, 1, 0, 0, 0, 0, 0, 0, 0, 0, 0, 0, 0, 0, ..., 0, 0, 0, 0, 0, 0, 0, 0, 0, 0, 0, 0, 0, 0, 0, 0, 0, 0, 0, 1, 0, 0, 0, 0, 0, 1, 0, 0, 0, 1])"
      ]
     },
     "execution_count": 112,
     "metadata": {},
     "output_type": "execute_result"
    }
   ],
   "source": [
    "# New target: all values are 1 (digit 8) or 0 (all other digits)\n",
    "binary_y_train"
   ]
  },
  {
   "cell_type": "code",
   "execution_count": null,
   "metadata": {
    "id": "452YT-hfGetN"
   },
   "outputs": [],
   "source": []
  },
  {
   "cell_type": "markdown",
   "metadata": {
    "id": "CuTNHKgA_KpF"
   },
   "source": [
    "[Insert Text Here]"
   ]
  },
  {
   "cell_type": "markdown",
   "metadata": {
    "id": "ec98NMgiSt2T"
   },
   "source": [
    "## Part 3: Sampling and Cross Validation (40 points)"
   ]
  },
  {
   "cell_type": "markdown",
   "metadata": {
    "id": "Pt1GF9yN_YIG"
   },
   "source": [
    "We will use the following synthetic dataset to explore cross validation on."
   ]
  },
  {
   "cell_type": "code",
   "execution_count": null,
   "metadata": {
    "id": "KC33ccK0_c0m"
   },
   "outputs": [],
   "source": [
    "from sklearn.datasets import make_classification\n",
    "\n",
    "X, y = make_classification(n_samples=1000, n_features=20, n_informative=15, n_redundant=5, random_state=42)\n",
    "X_train, X_test, y_train, y_test = train_test_split(X, y, test_size=0.3, random_state=42)"
   ]
  },
  {
   "cell_type": "markdown",
   "metadata": {
    "id": "78SusRUdeVut"
   },
   "source": [
    "\n",
    "## **Question 1 (5 points):** Fit a vanilla KNN classifier on the training set and evaluate (predict) on the test set. Store the accuracy of this model in a variable called test_score.\n",
    "\n"
   ]
  },
  {
   "cell_type": "code",
   "execution_count": 18,
   "metadata": {
    "id": "PD6Ch6GE_vTb"
   },
   "outputs": [],
   "source": []
  },
  {
   "cell_type": "markdown",
   "metadata": {
    "id": "fokxO-rd_1iy"
   },
   "source": [
    "\n",
    "## **Question 2 (10 points):**\n",
    "## Perform 10-fold cross-validation and compare the results of single split vs. 10-fold cross-validation by plotting accuracy (y-axis) against fold number (x-axis).\n",
    "\n",
    "## Describe the effect of different fold numbers on the results of cross validation in a text markdown cell and if the results are expected. Give the average accuracy of CV scores across all folds.\n",
    "Write a minimum of 2 sentences."
   ]
  },
  {
   "cell_type": "code",
   "execution_count": 18,
   "metadata": {
    "id": "QJ1dpOJgpyQz"
   },
   "outputs": [],
   "source": []
  },
  {
   "cell_type": "markdown",
   "metadata": {
    "id": "GnJwo24eAaaA"
   },
   "source": [
    "[Insert Text Here]"
   ]
  },
  {
   "cell_type": "markdown",
   "metadata": {
    "id": "VHL2xAgUwbwr"
   },
   "source": [
    "## **Question 3 (5 points):** ##\n",
    "## Modify the plot above and add:\n",
    "1. A horizontal static red line corresponding to the single split model accuracy\n",
    "2. A horizontal green line corresponding to the average CV fold accuracy\n",
    "\n",
    "## You may use the following code to achieve these:\n",
    "> plt.axhline(y=test_score, color='r', linestyle='--', label='Single Test Score')\n",
    "\n",
    "> plt.axhline(y=np.mean(cv_scores), color='g', linestyle='-', label='Average CV Score')\n",
    "\n"
   ]
  },
  {
   "cell_type": "code",
   "execution_count": 18,
   "metadata": {
    "id": "jy3rqs9Ub15G"
   },
   "outputs": [],
   "source": []
  },
  {
   "cell_type": "markdown",
   "metadata": {
    "id": "7ZEjU5hvantM"
   },
   "source": [
    "## **Question 4 (10 points):**\n",
    "## Implement 5-fold cross-validation on a dataset of your choice. Complete any necessary preprocessing (you may reuse the dataset from Part 1).\n",
    "\n",
    "## Implement a train-test split and instantiate a classification model of your choice. Call predict on (evaluate) both a single-split and 5-fold CV model."
   ]
  },
  {
   "cell_type": "code",
   "execution_count": null,
   "metadata": {
    "id": "lUdvih2TDExB"
   },
   "outputs": [],
   "source": []
  },
  {
   "cell_type": "markdown",
   "metadata": {
    "id": "2mr4B9WkExT_"
   },
   "source": [
    "## **Question 5 (10 points):**\n",
    "## Finally, create the same plot as in Question 3 to compare single-split with CV performance on your chosen dataset.\n",
    "\n",
    "## The plot should have Fold Number on the x-axis and Accuracy on the y-axis. Include a horizontal red line for the single-split accuracy and a horizontal green line for the average CV fold score."
   ]
  },
  {
   "cell_type": "code",
   "execution_count": null,
   "metadata": {
    "id": "2aM2XfTDE81_"
   },
   "outputs": [],
   "source": []
  },
  {
   "cell_type": "markdown",
   "metadata": {
    "id": "x1KiVMvjNKGU"
   },
   "source": [
    "### Honor Pledge"
   ]
  },
  {
   "cell_type": "markdown",
   "metadata": {
    "id": "Jo-hwQo5LBAk"
   },
   "source": [
    "On my honor as a student, I have neither given nor received unauthorized aid on this assignment."
   ]
  }
 ],
 "metadata": {
  "colab": {
   "provenance": []
  },
  "kernelspec": {
   "display_name": "Python 3 (ipykernel)",
   "language": "python",
   "name": "python3"
  },
  "language_info": {
   "codemirror_mode": {
    "name": "ipython",
    "version": 3
   },
   "file_extension": ".py",
   "mimetype": "text/x-python",
   "name": "python",
   "nbconvert_exporter": "python",
   "pygments_lexer": "ipython3",
   "version": "3.8.17"
  }
 },
 "nbformat": 4,
 "nbformat_minor": 4
}
