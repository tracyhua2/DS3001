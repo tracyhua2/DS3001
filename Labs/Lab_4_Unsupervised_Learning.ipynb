{
  "cells": [
    {
      "cell_type": "markdown",
      "metadata": {
        "id": "view-in-github",
        "colab_type": "text"
      },
      "source": [
        "<a href=\"https://colab.research.google.com/github/tracyhua2/DS3001/blob/main/Labs/Lab_4_Unsupervised_Learning.ipynb\" target=\"_parent\"><img src=\"https://colab.research.google.com/assets/colab-badge.svg\" alt=\"Open In Colab\"/></a>"
      ]
    },
    {
      "cell_type": "markdown",
      "metadata": {
        "id": "Hkkb_7LYKsG4"
      },
      "source": [
        "## **Name:** Tracy Hua\n",
        "\n",
        "## **Computing ID:** njn4gb"
      ]
    },
    {
      "cell_type": "code",
      "execution_count": 208,
      "metadata": {
        "id": "1DAOPfwqMV5t"
      },
      "outputs": [],
      "source": [
        "import pandas as pd\n",
        "import numpy as np\n",
        "import matplotlib.pyplot as plt\n",
        "import tensorflow as tf"
      ]
    },
    {
      "cell_type": "markdown",
      "metadata": {
        "id": "r4A9sts1JrTc"
      },
      "source": [
        "# Lab 4: Unsupervised Learning (100 Points)"
      ]
    },
    {
      "cell_type": "markdown",
      "source": [
        "In this lab, we will implement 2 models in the unsupervised learning family **K-means clustering** and **Principal Component Analysis (PCA)**.\n",
        "\n",
        "You will utilize the skills you have gained over the semester to build, explore, and evaluate your models. As always, you will be graded on your model building and interpretation of  results rather than specific performance."
      ],
      "metadata": {
        "id": "v2MiKceoh6yF"
      }
    },
    {
      "cell_type": "markdown",
      "source": [
        "![](https://miro.medium.com/v2/resize:fit:1400/format:webp/0*h-lAg5H-ZNDRXxX2.png)"
      ],
      "metadata": {
        "id": "rcS_RpJ-D2JS"
      }
    },
    {
      "cell_type": "markdown",
      "source": [
        "# **Part 1: K-Means Clustering (50 points)**"
      ],
      "metadata": {
        "id": "h_LpB5eWiTF0"
      }
    },
    {
      "cell_type": "markdown",
      "source": [
        "## For Part 1, you will pick from the following preloaded datasets:\n",
        "\n"
      ],
      "metadata": {
        "id": "lJdA3izfjZKn"
      }
    },
    {
      "cell_type": "code",
      "source": [
        "pokemon_df = pd.read_csv(\"https://gist.githubusercontent.com/armgilles/194bcff35001e7eb53a2a8b441e8b2c6/raw/92200bc0a673d5ce2110aaad4544ed6c4010f687/pokemon.csv\")"
      ],
      "metadata": {
        "id": "7tMNSv0ZBUxk"
      },
      "execution_count": 209,
      "outputs": []
    },
    {
      "cell_type": "code",
      "source": [
        "# Load Fashion MNIST data\n",
        "fashion_mnist = tf.keras.datasets.fashion_mnist\n",
        "(train_images, train_labels), (test_images, test_labels) = fashion_mnist.load_data()"
      ],
      "metadata": {
        "id": "OjVlA0LCBVLo"
      },
      "execution_count": 210,
      "outputs": []
    },
    {
      "cell_type": "markdown",
      "source": [
        "**Another option open to you, if you wish, is to  utilize a dataset of your choice (including your final project dataset).**\n"
      ],
      "metadata": {
        "id": "IR8FBoX3BPgT"
      }
    },
    {
      "cell_type": "markdown",
      "source": [
        "In a text cell, answer the following exploratory questions and support your observations with any code, if needed."
      ],
      "metadata": {
        "id": "M6Hb_Ab7BSc5"
      }
    },
    {
      "cell_type": "markdown",
      "metadata": {
        "id": "m4xxMTbVTIUP"
      },
      "source": [
        "## **Question 1 (5 points):**\n",
        "## Read in your dataset as a Pandas DataFrame. Show the first 5 rows. How many rows and columns do you have?\n",
        "\n",
        "## What are your features and their datatypes?"
      ]
    },
    {
      "cell_type": "code",
      "source": [
        "print(pokemon_df.head(5))"
      ],
      "metadata": {
        "id": "HefBwSXYnjdW",
        "colab": {
          "base_uri": "https://localhost:8080/"
        },
        "outputId": "0ac2c7f8-3d35-4e83-d5a4-6b18cb71bc0f"
      },
      "execution_count": 211,
      "outputs": [
        {
          "output_type": "stream",
          "name": "stdout",
          "text": [
            "   #                   Name Type 1  Type 2  Total  HP  Attack  Defense  \\\n",
            "0  1              Bulbasaur  Grass  Poison    318  45      49       49   \n",
            "1  2                Ivysaur  Grass  Poison    405  60      62       63   \n",
            "2  3               Venusaur  Grass  Poison    525  80      82       83   \n",
            "3  3  VenusaurMega Venusaur  Grass  Poison    625  80     100      123   \n",
            "4  4             Charmander   Fire     NaN    309  39      52       43   \n",
            "\n",
            "   Sp. Atk  Sp. Def  Speed  Generation  Legendary  \n",
            "0       65       65     45           1      False  \n",
            "1       80       80     60           1      False  \n",
            "2      100      100     80           1      False  \n",
            "3      122      120     80           1      False  \n",
            "4       60       50     65           1      False  \n"
          ]
        }
      ]
    },
    {
      "cell_type": "code",
      "source": [
        "print(pokemon_df.shape)"
      ],
      "metadata": {
        "colab": {
          "base_uri": "https://localhost:8080/"
        },
        "id": "WEA4ACzg7sac",
        "outputId": "04f1f60b-bd4a-4196-8663-2606c46a8c58"
      },
      "execution_count": 212,
      "outputs": [
        {
          "output_type": "stream",
          "name": "stdout",
          "text": [
            "(800, 13)\n"
          ]
        }
      ]
    },
    {
      "cell_type": "code",
      "source": [
        "features = pokemon_df.drop(columns=['#','Name'])\n",
        "print(features.head())"
      ],
      "metadata": {
        "colab": {
          "base_uri": "https://localhost:8080/"
        },
        "id": "wtJCBzx770EV",
        "outputId": "52561d85-7e59-403d-820c-840606807af8"
      },
      "execution_count": 213,
      "outputs": [
        {
          "output_type": "stream",
          "name": "stdout",
          "text": [
            "  Type 1  Type 2  Total  HP  Attack  Defense  Sp. Atk  Sp. Def  Speed  \\\n",
            "0  Grass  Poison    318  45      49       49       65       65     45   \n",
            "1  Grass  Poison    405  60      62       63       80       80     60   \n",
            "2  Grass  Poison    525  80      82       83      100      100     80   \n",
            "3  Grass  Poison    625  80     100      123      122      120     80   \n",
            "4   Fire     NaN    309  39      52       43       60       50     65   \n",
            "\n",
            "   Generation  Legendary  \n",
            "0           1      False  \n",
            "1           1      False  \n",
            "2           1      False  \n",
            "3           1      False  \n",
            "4           1      False  \n"
          ]
        }
      ]
    },
    {
      "cell_type": "code",
      "source": [
        "print(features.dtypes)"
      ],
      "metadata": {
        "colab": {
          "base_uri": "https://localhost:8080/"
        },
        "id": "u0XPgujV9IEc",
        "outputId": "515fbb40-e3d3-47b9-9e5e-62ac1f3b748f"
      },
      "execution_count": 214,
      "outputs": [
        {
          "output_type": "stream",
          "name": "stdout",
          "text": [
            "Type 1        object\n",
            "Type 2        object\n",
            "Total          int64\n",
            "HP             int64\n",
            "Attack         int64\n",
            "Defense        int64\n",
            "Sp. Atk        int64\n",
            "Sp. Def        int64\n",
            "Speed          int64\n",
            "Generation     int64\n",
            "Legendary       bool\n",
            "dtype: object\n"
          ]
        }
      ]
    },
    {
      "cell_type": "markdown",
      "source": [
        "**There is a total of 800 rows and 13 columns. The features are Type 1, Type 2, Total, HP, Attack, Defense, Sp. Atk, Sp. Def, Speed, Generation, and Legendary. The data types are object, object, int64, int64, int64, int64, int64, int64, int64, int64, and bool, respectively.**"
      ],
      "metadata": {
        "id": "IGjYDY6O-EIT"
      }
    },
    {
      "cell_type": "markdown",
      "source": [
        "## **Question 2 (5 points):**\n",
        "## Identify what percentage of each column has missing values and display this information (column name, percentage values missing) in a DataFrame.\n",
        "\n",
        "## Then, fill in any missing values using any method appropriate for each column's data type and values."
      ],
      "metadata": {
        "id": "JgxckMLW7mq7"
      }
    },
    {
      "cell_type": "code",
      "source": [
        "NA_df = pd.DataFrame((pokemon_df.isna().sum()/pokemon_df.count())*100, columns=['Percent Missing'])\n",
        "print(NA_df)"
      ],
      "metadata": {
        "id": "qKooDsqm8jQ7",
        "colab": {
          "base_uri": "https://localhost:8080/"
        },
        "outputId": "bb7855ed-5dd9-4cce-a88d-be57a75de3bb"
      },
      "execution_count": 215,
      "outputs": [
        {
          "output_type": "stream",
          "name": "stdout",
          "text": [
            "            Percent Missing\n",
            "#                  0.000000\n",
            "Name               0.000000\n",
            "Type 1             0.000000\n",
            "Type 2            93.236715\n",
            "Total              0.000000\n",
            "HP                 0.000000\n",
            "Attack             0.000000\n",
            "Defense            0.000000\n",
            "Sp. Atk            0.000000\n",
            "Sp. Def            0.000000\n",
            "Speed              0.000000\n",
            "Generation         0.000000\n",
            "Legendary          0.000000\n"
          ]
        }
      ]
    },
    {
      "cell_type": "code",
      "source": [
        "# impute missing values (NA) in 'Type 2' column using mode value\n",
        "mode_value = pokemon_df['Type 2'].mode()[0]\n",
        "pokemon_df['Type 2'].fillna(mode_value, inplace=True)\n",
        "print(pokemon_df.head())"
      ],
      "metadata": {
        "colab": {
          "base_uri": "https://localhost:8080/"
        },
        "id": "Y_re8MhS-ElR",
        "outputId": "3f7348e6-f8fb-41ea-e1f4-63ef58044aa4"
      },
      "execution_count": 216,
      "outputs": [
        {
          "output_type": "stream",
          "name": "stdout",
          "text": [
            "   #                   Name Type 1  Type 2  Total  HP  Attack  Defense  \\\n",
            "0  1              Bulbasaur  Grass  Poison    318  45      49       49   \n",
            "1  2                Ivysaur  Grass  Poison    405  60      62       63   \n",
            "2  3               Venusaur  Grass  Poison    525  80      82       83   \n",
            "3  3  VenusaurMega Venusaur  Grass  Poison    625  80     100      123   \n",
            "4  4             Charmander   Fire  Flying    309  39      52       43   \n",
            "\n",
            "   Sp. Atk  Sp. Def  Speed  Generation  Legendary  \n",
            "0       65       65     45           1      False  \n",
            "1       80       80     60           1      False  \n",
            "2      100      100     80           1      False  \n",
            "3      122      120     80           1      False  \n",
            "4       60       50     65           1      False  \n"
          ]
        },
        {
          "output_type": "stream",
          "name": "stderr",
          "text": [
            "<ipython-input-216-2b5b95b293c6>:3: FutureWarning: A value is trying to be set on a copy of a DataFrame or Series through chained assignment using an inplace method.\n",
            "The behavior will change in pandas 3.0. This inplace method will never work because the intermediate object on which we are setting values always behaves as a copy.\n",
            "\n",
            "For example, when doing 'df[col].method(value, inplace=True)', try using 'df.method({col: value}, inplace=True)' or df[col] = df[col].method(value) instead, to perform the operation inplace on the original object.\n",
            "\n",
            "\n",
            "  pokemon_df['Type 2'].fillna(mode_value, inplace=True)\n"
          ]
        }
      ]
    },
    {
      "cell_type": "markdown",
      "source": [
        "## **Question 3 (5 points):**\n",
        "## Identify columns in your DataFrame that need to be encoded and use the proper encoder for each feature to transform your categorical data into numerical features.\n",
        "\n",
        "## In a sentence per each encoded feature, justify your choice in encoder and why you utilized it"
      ],
      "metadata": {
        "id": "J6bltiTx9dv3"
      }
    },
    {
      "cell_type": "code",
      "source": [
        "# count of unique responses in Type 1\n",
        "pokemon_df['Type 1'].unique()"
      ],
      "metadata": {
        "colab": {
          "base_uri": "https://localhost:8080/"
        },
        "id": "CIAtX85M_hk5",
        "outputId": "be07a2e3-d885-4685-8d7e-76090e09db09"
      },
      "execution_count": 217,
      "outputs": [
        {
          "output_type": "execute_result",
          "data": {
            "text/plain": [
              "array(['Grass', 'Fire', 'Water', 'Bug', 'Normal', 'Poison', 'Electric',\n",
              "       'Ground', 'Fairy', 'Fighting', 'Psychic', 'Rock', 'Ghost', 'Ice',\n",
              "       'Dragon', 'Dark', 'Steel', 'Flying'], dtype=object)"
            ]
          },
          "metadata": {},
          "execution_count": 217
        }
      ]
    },
    {
      "cell_type": "code",
      "source": [
        "# count of unique responses in Type 2\n",
        "len(pokemon_df['Type 2'].unique())"
      ],
      "metadata": {
        "colab": {
          "base_uri": "https://localhost:8080/"
        },
        "id": "dZV-IFv0_3Vj",
        "outputId": "3cec5e47-fb43-4532-fcd6-21faafabb0c9"
      },
      "execution_count": 218,
      "outputs": [
        {
          "output_type": "execute_result",
          "data": {
            "text/plain": [
              "18"
            ]
          },
          "metadata": {},
          "execution_count": 218
        }
      ]
    },
    {
      "cell_type": "code",
      "source": [
        "pokemon_df['Legendary'].unique()"
      ],
      "metadata": {
        "colab": {
          "base_uri": "https://localhost:8080/"
        },
        "id": "Q6m6amQCAVhx",
        "outputId": "fb1537c1-7685-40d5-cc22-dc22441b1baa"
      },
      "execution_count": 219,
      "outputs": [
        {
          "output_type": "execute_result",
          "data": {
            "text/plain": [
              "array([False,  True])"
            ]
          },
          "metadata": {},
          "execution_count": 219
        }
      ]
    },
    {
      "cell_type": "code",
      "source": [
        "# columns that need to be encoded: Type 1, Type 2, Legendary\n",
        "\n",
        "# Type 1 & Type 2 using OneHotEncoder where 1 if True, 0 otherwise\n",
        "pokemon_df['Type 1'] = pokemon_df['Type 1'].astype(\"string\")\n",
        "pokemon_df['Type 2'] = pokemon_df['Type 2'].astype(\"string\")\n",
        "pokemon_df = pd.get_dummies(pokemon_df, columns=['Type 1','Type 2'], drop_first=True, dtype=int)\n",
        "print(pokemon_df.head())"
      ],
      "metadata": {
        "id": "qXNkpLs396Hw",
        "colab": {
          "base_uri": "https://localhost:8080/"
        },
        "outputId": "5b9e69e5-db8e-4a0e-9b20-b731c9c05607"
      },
      "execution_count": 220,
      "outputs": [
        {
          "output_type": "stream",
          "name": "stdout",
          "text": [
            "   #                   Name  Total  HP  Attack  Defense  Sp. Atk  Sp. Def  \\\n",
            "0  1              Bulbasaur    318  45      49       49       65       65   \n",
            "1  2                Ivysaur    405  60      62       63       80       80   \n",
            "2  3               Venusaur    525  80      82       83      100      100   \n",
            "3  3  VenusaurMega Venusaur    625  80     100      123      122      120   \n",
            "4  4             Charmander    309  39      52       43       60       50   \n",
            "\n",
            "   Speed  Generation  ...  Type 2_Ghost  Type 2_Grass  Type 2_Ground  \\\n",
            "0     45           1  ...             0             0              0   \n",
            "1     60           1  ...             0             0              0   \n",
            "2     80           1  ...             0             0              0   \n",
            "3     80           1  ...             0             0              0   \n",
            "4     65           1  ...             0             0              0   \n",
            "\n",
            "   Type 2_Ice  Type 2_Normal  Type 2_Poison  Type 2_Psychic  Type 2_Rock  \\\n",
            "0           0              0              1               0            0   \n",
            "1           0              0              1               0            0   \n",
            "2           0              0              1               0            0   \n",
            "3           0              0              1               0            0   \n",
            "4           0              0              0               0            0   \n",
            "\n",
            "   Type 2_Steel  Type 2_Water  \n",
            "0             0             0  \n",
            "1             0             0  \n",
            "2             0             0  \n",
            "3             0             0  \n",
            "4             0             0  \n",
            "\n",
            "[5 rows x 45 columns]\n"
          ]
        }
      ]
    },
    {
      "cell_type": "code",
      "source": [
        "# Legendary convert to binary\n",
        "pokemon_df['Legendary'] = pokemon_df['Legendary'].astype(int)\n",
        "print(pokemon_df['Legendary'].head())"
      ],
      "metadata": {
        "colab": {
          "base_uri": "https://localhost:8080/"
        },
        "id": "lqjeStmZEGhP",
        "outputId": "53e6292d-fe31-43ca-d886-792ce83b2a40"
      },
      "execution_count": 224,
      "outputs": [
        {
          "output_type": "stream",
          "name": "stdout",
          "text": [
            "0    0\n",
            "1    0\n",
            "2    0\n",
            "3    0\n",
            "4    0\n",
            "Name: Legendary, dtype: int64\n"
          ]
        }
      ]
    },
    {
      "cell_type": "markdown",
      "source": [
        "**I encoded Feature A with XYZ encoding because...**"
      ],
      "metadata": {
        "id": "wjnBUtpB96Yu"
      }
    },
    {
      "cell_type": "markdown",
      "source": [
        "## **Question 4 (5 points):**\n",
        "## Finally, identify your numerical columns and apply both standardization and normalization.\n",
        "\n",
        "## Display each numerical column name and its minimum and maximum values in a DataFrame after these 2 processes.\n",
        "\n",
        "## In 2 to 3 sentences, summarize the DataFrame and the effects of your choice in standardization and normalization had on your numerical features? Why would scaling your data be beneficial for unsupervised learning?"
      ],
      "metadata": {
        "id": "lGZ8stUWmnjx"
      }
    },
    {
      "cell_type": "code",
      "source": [],
      "metadata": {
        "id": "MeiqvF3Bvhd_"
      },
      "execution_count": 220,
      "outputs": []
    },
    {
      "cell_type": "markdown",
      "source": [
        "**The methods I used to standardize and normalize my data caused the values of my data to range...**\n",
        "\n",
        "**I think scaling your data is helpful for unsupervised learning because scaled data...**"
      ],
      "metadata": {
        "id": "CHa_7vvUvhmx"
      }
    },
    {
      "cell_type": "markdown",
      "source": [
        "## **Question 5 (7 points):**\n",
        "## Create a function to instantiate K-Means Clustering model with a user inputted parameter for \"k\" number clusters. Also tune a minimum of 3 hyperparameters of your choice, referencing documentation as necessary:\n",
        "* https://scikit-learn.org/stable/modules/generated/sklearn.cluster.KMeans.html  \n",
        "\n",
        "\n",
        "## Fit your model to your data, adding your predictions in a column of your DataFrame called cluster. Return this new dataframe in your function. Call your function on your data with k = 3."
      ],
      "metadata": {
        "id": "3XtTm6UlBz8M"
      }
    },
    {
      "cell_type": "code",
      "source": [],
      "metadata": {
        "id": "J3pGjmTvCLlu"
      },
      "execution_count": 220,
      "outputs": []
    },
    {
      "cell_type": "markdown",
      "source": [
        "## **Question 6 (5 points):**\n",
        "## Write code to plot your predicted clusters, with different colors for different cluster numbers. Apply this code to the predictions you obtained in Question 5 and describe the output.\n",
        "\n",
        "## In a minimum of 3 sentences, based on all the information you have, describe why k = 3 seems like a reasonable or unreasounable amount of clusters for your data."
      ],
      "metadata": {
        "id": "JKfd1qT3DG15"
      }
    },
    {
      "cell_type": "code",
      "source": [],
      "metadata": {
        "id": "L3_eMBsQDGpB"
      },
      "execution_count": 220,
      "outputs": []
    },
    {
      "cell_type": "markdown",
      "source": [
        "**Because the predicted clusters show XYZ, I believe k=3 is/is not a reasonable choice...**"
      ],
      "metadata": {
        "id": "r-aHg1r8En0o"
      }
    },
    {
      "cell_type": "markdown",
      "source": [
        "## **Question 7 (8 points):**\n",
        "## Plot an elbow plot for your clustering model with any metric of your choice and pick an optimal k value.\n",
        "\n",
        "## Then, utilize the optimal k to tune at least 3 K-Means Clustering models by varying the hyperparameters. For each model, you will use the optimal k number of clusters you identified in your elbow plot but vary at least 3 other hyperparameters. Plot your predicted clusters differentiated by color."
      ],
      "metadata": {
        "id": "9DsYr4-9E5Ek"
      }
    },
    {
      "cell_type": "code",
      "source": [],
      "metadata": {
        "id": "FyM12M0cF3F7"
      },
      "execution_count": 220,
      "outputs": []
    },
    {
      "cell_type": "markdown",
      "source": [
        "## In a minimum of 5 sentences, reflect on your tuned models. Write what you judge the optimal amount of clusters to be and why. How do the plots of your clusters change with tuning specific parameters? Do your results make sense?"
      ],
      "metadata": {
        "id": "2ow9JBD8G3ob"
      }
    },
    {
      "cell_type": "markdown",
      "source": [
        "**I picked a k of X clusters because...**\n",
        "\n",
        "**Yes. My tuned models make sense because...**"
      ],
      "metadata": {
        "id": "Fo5iLpKRF3nn"
      }
    },
    {
      "cell_type": "markdown",
      "source": [
        "## **Question 8 (10 points):**\n",
        "## Now, examine the makeup of your clusters. Create plots and visualizations that may explain your initial groupings.\n",
        "\n",
        "## You may do this by color coding your clusters by a given feature or by examining descriptive statistics of each cluster (ie: cluster 1 has an average temperature of 15 while cluster 2....)\n",
        "\n",
        "## Write a **10 to 15 sentence** reflection on why you think your clusters have oriented the way they display. Are you clusters similar are very different in their feature makeup? Are you clusters similarly sized or are some much larger or smaller? Are there any aspects of the clusters that don't make sense when compared your original data or targets?\n",
        "\n",
        "\n"
      ],
      "metadata": {
        "id": "mKrWUaMcGMG1"
      }
    },
    {
      "cell_type": "code",
      "source": [],
      "metadata": {
        "id": "bJqBcvlnH-6M"
      },
      "execution_count": 220,
      "outputs": []
    },
    {
      "cell_type": "markdown",
      "source": [
        "**After examining my clusters, I believe the groupings make sense because....**"
      ],
      "metadata": {
        "id": "0Im8ArFmH_1R"
      }
    },
    {
      "cell_type": "markdown",
      "metadata": {
        "id": "cU2O0tkmoaxB"
      },
      "source": [
        "# **Part 2: Principal Component Analysis (50 Points)**"
      ]
    },
    {
      "cell_type": "markdown",
      "source": [
        "## **Question 1 (15 points):**\n",
        "## Fit a PCA model to a dataset if your choice. Write code to visualize the first 2 principal components and color code your groups to differentiate them.\n",
        "\n"
      ],
      "metadata": {
        "id": "tAYnauLpOSma"
      }
    },
    {
      "cell_type": "code",
      "source": [],
      "metadata": {
        "id": "5SyhRJB9HZ3I"
      },
      "execution_count": 220,
      "outputs": []
    },
    {
      "cell_type": "markdown",
      "source": [
        "## **Question 2 (10 points):**\n",
        "## Create 2 barplots:\n",
        "\n",
        "*   The first barplot should show the percentage variance explained by each principal component\n",
        "\n",
        "* The first barplot should show the **cumulative** percentage variance explained by each principal component. Add a horizontal red line on this graph depicting when the cumulative variance has hit 80%.\n",
        "\n",
        "\n",
        "## Write 2 to 3 sentences on how many components explain 80% of the variability in your dataset. Are the results surprising given how much variance is in (or not in) your data? What features would you consider dropping based on your results and why?\n"
      ],
      "metadata": {
        "id": "07ymrylhOwLk"
      }
    },
    {
      "cell_type": "code",
      "source": [],
      "metadata": {
        "id": "ZI5av9ewPGV2"
      },
      "execution_count": 220,
      "outputs": []
    },
    {
      "cell_type": "markdown",
      "source": [
        "**It tales N components to explain...**\n",
        "\n",
        "**I would consider dropping...**"
      ],
      "metadata": {
        "id": "JoN_J4AuPaWG"
      }
    },
    {
      "cell_type": "markdown",
      "source": [
        "## **Question 3 (25 points):**\n",
        "## Write **3 paragraphs**, supported by code and exploratory analysis, explaining and exploring the groupings you see in your data. Utilize data features to justify why the components that explain so much of the variance in your data are reasonable. Explain what kind of applications or decision making your analysis can help support.\n",
        "\n",
        "## You may choose to explore beyond simply the first 2 principal components if you wish.\n",
        "\n"
      ],
      "metadata": {
        "id": "PK00jGAzOj6A"
      }
    },
    {
      "cell_type": "code",
      "source": [],
      "metadata": {
        "id": "xNQmb9m2P1VW"
      },
      "execution_count": 220,
      "outputs": []
    },
    {
      "cell_type": "markdown",
      "source": [
        "**The principal components show...**\n",
        "\n",
        "**The PCs responsible for explaining the majority of variance...**\n",
        "\n",
        "**These results can be used for...**"
      ],
      "metadata": {
        "id": "dGnDLN8oP1es"
      }
    },
    {
      "cell_type": "markdown",
      "metadata": {
        "id": "x1KiVMvjNKGU"
      },
      "source": [
        "### Honor Pledge"
      ]
    },
    {
      "cell_type": "markdown",
      "metadata": {
        "id": "Jo-hwQo5LBAk"
      },
      "source": [
        "On my honor as a student, I have neither given nor received unauthorized aid on this assignment."
      ]
    }
  ],
  "metadata": {
    "colab": {
      "provenance": [],
      "include_colab_link": true
    },
    "kernelspec": {
      "display_name": "Python 3 (ipykernel)",
      "language": "python",
      "name": "python3"
    },
    "language_info": {
      "codemirror_mode": {
        "name": "ipython",
        "version": 3
      },
      "file_extension": ".py",
      "mimetype": "text/x-python",
      "name": "python",
      "nbconvert_exporter": "python",
      "pygments_lexer": "ipython3",
      "version": "3.8.17"
    }
  },
  "nbformat": 4,
  "nbformat_minor": 0
}