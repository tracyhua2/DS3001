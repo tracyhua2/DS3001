{
  "cells": [
    {
      "cell_type": "markdown",
      "metadata": {
        "id": "view-in-github",
        "colab_type": "text"
      },
      "source": [
        "<a href=\"https://colab.research.google.com/github/tracyhua2/DS3001/blob/main/Labs/Lab_4_Unsupervised_Learning.ipynb\" target=\"_parent\"><img src=\"https://colab.research.google.com/assets/colab-badge.svg\" alt=\"Open In Colab\"/></a>"
      ]
    },
    {
      "cell_type": "markdown",
      "metadata": {
        "id": "Hkkb_7LYKsG4"
      },
      "source": [
        "## **Name:** Tracy Hua\n",
        "\n",
        "## **Computing ID:** njn4gb"
      ]
    },
    {
      "cell_type": "code",
      "execution_count": 50,
      "metadata": {
        "id": "1DAOPfwqMV5t"
      },
      "outputs": [],
      "source": [
        "import pandas as pd\n",
        "import numpy as np\n",
        "import matplotlib.pyplot as plt\n",
        "import tensorflow as tf"
      ]
    },
    {
      "cell_type": "markdown",
      "metadata": {
        "id": "r4A9sts1JrTc"
      },
      "source": [
        "# Lab 4: Unsupervised Learning (100 Points)"
      ]
    },
    {
      "cell_type": "markdown",
      "source": [
        "In this lab, we will implement 2 models in the unsupervised learning family **K-means clustering** and **Principal Component Analysis (PCA)**.\n",
        "\n",
        "You will utilize the skills you have gained over the semester to build, explore, and evaluate your models. As always, you will be graded on your model building and interpretation of  results rather than specific performance."
      ],
      "metadata": {
        "id": "v2MiKceoh6yF"
      }
    },
    {
      "cell_type": "markdown",
      "source": [
        "![](https://miro.medium.com/v2/resize:fit:1400/format:webp/0*h-lAg5H-ZNDRXxX2.png)"
      ],
      "metadata": {
        "id": "rcS_RpJ-D2JS"
      }
    },
    {
      "cell_type": "markdown",
      "source": [
        "# **Part 1: K-Means Clustering (50 points)**"
      ],
      "metadata": {
        "id": "h_LpB5eWiTF0"
      }
    },
    {
      "cell_type": "markdown",
      "source": [
        "## For Part 1, you will pick from the following preloaded datasets:\n",
        "\n"
      ],
      "metadata": {
        "id": "lJdA3izfjZKn"
      }
    },
    {
      "cell_type": "code",
      "source": [
        "pokemon_df = pd.read_csv(\"https://gist.githubusercontent.com/armgilles/194bcff35001e7eb53a2a8b441e8b2c6/raw/92200bc0a673d5ce2110aaad4544ed6c4010f687/pokemon.csv\")"
      ],
      "metadata": {
        "id": "7tMNSv0ZBUxk"
      },
      "execution_count": 51,
      "outputs": []
    },
    {
      "cell_type": "code",
      "source": [
        "# Load Fashion MNIST data\n",
        "fashion_mnist = tf.keras.datasets.fashion_mnist\n",
        "(train_images, train_labels), (test_images, test_labels) = fashion_mnist.load_data()"
      ],
      "metadata": {
        "id": "OjVlA0LCBVLo"
      },
      "execution_count": 52,
      "outputs": []
    },
    {
      "cell_type": "markdown",
      "source": [
        "**Another option open to you, if you wish, is to  utilize a dataset of your choice (including your final project dataset).**\n"
      ],
      "metadata": {
        "id": "IR8FBoX3BPgT"
      }
    },
    {
      "cell_type": "markdown",
      "source": [
        "In a text cell, answer the following exploratory questions and support your observations with any code, if needed."
      ],
      "metadata": {
        "id": "M6Hb_Ab7BSc5"
      }
    },
    {
      "cell_type": "markdown",
      "metadata": {
        "id": "m4xxMTbVTIUP"
      },
      "source": [
        "## **Question 1 (5 points):**\n",
        "## Read in your dataset as a Pandas DataFrame. Show the first 5 rows. How many rows and columns do you have?\n",
        "\n",
        "## What are your features and their datatypes?"
      ]
    },
    {
      "cell_type": "code",
      "source": [
        "print(pokemon_df.head(5))"
      ],
      "metadata": {
        "id": "HefBwSXYnjdW",
        "colab": {
          "base_uri": "https://localhost:8080/"
        },
        "outputId": "090338ec-234d-48dc-ba8c-82aa7d8c27d6"
      },
      "execution_count": 53,
      "outputs": [
        {
          "output_type": "stream",
          "name": "stdout",
          "text": [
            "   #                   Name Type 1  Type 2  Total  HP  Attack  Defense  \\\n",
            "0  1              Bulbasaur  Grass  Poison    318  45      49       49   \n",
            "1  2                Ivysaur  Grass  Poison    405  60      62       63   \n",
            "2  3               Venusaur  Grass  Poison    525  80      82       83   \n",
            "3  3  VenusaurMega Venusaur  Grass  Poison    625  80     100      123   \n",
            "4  4             Charmander   Fire     NaN    309  39      52       43   \n",
            "\n",
            "   Sp. Atk  Sp. Def  Speed  Generation  Legendary  \n",
            "0       65       65     45           1      False  \n",
            "1       80       80     60           1      False  \n",
            "2      100      100     80           1      False  \n",
            "3      122      120     80           1      False  \n",
            "4       60       50     65           1      False  \n"
          ]
        }
      ]
    },
    {
      "cell_type": "code",
      "source": [
        "print(pokemon_df.shape)"
      ],
      "metadata": {
        "colab": {
          "base_uri": "https://localhost:8080/"
        },
        "id": "WEA4ACzg7sac",
        "outputId": "da4cbf82-d13b-4938-a74f-6c0521a6a933"
      },
      "execution_count": 54,
      "outputs": [
        {
          "output_type": "stream",
          "name": "stdout",
          "text": [
            "(800, 13)\n"
          ]
        }
      ]
    },
    {
      "cell_type": "code",
      "source": [
        "features = pokemon_df.drop(columns=['#','Name'])\n",
        "print(features.head())"
      ],
      "metadata": {
        "colab": {
          "base_uri": "https://localhost:8080/"
        },
        "id": "wtJCBzx770EV",
        "outputId": "62859a99-004e-4225-d9df-8ca2e0c78f22"
      },
      "execution_count": 55,
      "outputs": [
        {
          "output_type": "stream",
          "name": "stdout",
          "text": [
            "  Type 1  Type 2  Total  HP  Attack  Defense  Sp. Atk  Sp. Def  Speed  \\\n",
            "0  Grass  Poison    318  45      49       49       65       65     45   \n",
            "1  Grass  Poison    405  60      62       63       80       80     60   \n",
            "2  Grass  Poison    525  80      82       83      100      100     80   \n",
            "3  Grass  Poison    625  80     100      123      122      120     80   \n",
            "4   Fire     NaN    309  39      52       43       60       50     65   \n",
            "\n",
            "   Generation  Legendary  \n",
            "0           1      False  \n",
            "1           1      False  \n",
            "2           1      False  \n",
            "3           1      False  \n",
            "4           1      False  \n"
          ]
        }
      ]
    },
    {
      "cell_type": "code",
      "source": [
        "print(features.dtypes)"
      ],
      "metadata": {
        "colab": {
          "base_uri": "https://localhost:8080/"
        },
        "id": "u0XPgujV9IEc",
        "outputId": "879c1d81-b7de-4876-abf5-9bbff23c1c1a"
      },
      "execution_count": 56,
      "outputs": [
        {
          "output_type": "stream",
          "name": "stdout",
          "text": [
            "Type 1        object\n",
            "Type 2        object\n",
            "Total          int64\n",
            "HP             int64\n",
            "Attack         int64\n",
            "Defense        int64\n",
            "Sp. Atk        int64\n",
            "Sp. Def        int64\n",
            "Speed          int64\n",
            "Generation     int64\n",
            "Legendary       bool\n",
            "dtype: object\n"
          ]
        }
      ]
    },
    {
      "cell_type": "markdown",
      "source": [
        "**There is a total of 800 rows and 13 columns. The features are Type 1, Type 2, Total, HP, Attack, Defense, Sp. Atk, Sp. Def, Speed, Generation, and Legendary. The data types are object, object, int64, int64, int64, int64, int64, int64, int64, int64, and bool, respectively.**"
      ],
      "metadata": {
        "id": "IGjYDY6O-EIT"
      }
    },
    {
      "cell_type": "markdown",
      "source": [
        "## **Question 2 (5 points):**\n",
        "## Identify what percentage of each column has missing values and display this information (column name, percentage values missing) in a DataFrame.\n",
        "\n",
        "## Then, fill in any missing values using any method appropriate for each column's data type and values."
      ],
      "metadata": {
        "id": "JgxckMLW7mq7"
      }
    },
    {
      "cell_type": "code",
      "source": [
        "NA_df = pd.DataFrame((pokemon_df.isna().sum()/pokemon_df.count())*100, columns=['Percent Missing'])\n",
        "print(NA_df)"
      ],
      "metadata": {
        "id": "qKooDsqm8jQ7",
        "colab": {
          "base_uri": "https://localhost:8080/"
        },
        "outputId": "a08bf540-2c3d-4aee-a50b-fa9bde0f1763"
      },
      "execution_count": 57,
      "outputs": [
        {
          "output_type": "stream",
          "name": "stdout",
          "text": [
            "            Percent Missing\n",
            "#                  0.000000\n",
            "Name               0.000000\n",
            "Type 1             0.000000\n",
            "Type 2            93.236715\n",
            "Total              0.000000\n",
            "HP                 0.000000\n",
            "Attack             0.000000\n",
            "Defense            0.000000\n",
            "Sp. Atk            0.000000\n",
            "Sp. Def            0.000000\n",
            "Speed              0.000000\n",
            "Generation         0.000000\n",
            "Legendary          0.000000\n"
          ]
        }
      ]
    },
    {
      "cell_type": "code",
      "source": [
        "# impute missing values (NA) in 'Type 2' column using mode value\n",
        "mode_value = pokemon_df['Type 2'].mode()[0]\n",
        "pokemon_df['Type 2'].fillna(mode_value, inplace=True)\n",
        "print(pokemon_df.head())"
      ],
      "metadata": {
        "colab": {
          "base_uri": "https://localhost:8080/"
        },
        "id": "Y_re8MhS-ElR",
        "outputId": "76dcd288-9197-4671-c9b7-ba32b884dbf4"
      },
      "execution_count": 58,
      "outputs": [
        {
          "output_type": "stream",
          "name": "stdout",
          "text": [
            "   #                   Name Type 1  Type 2  Total  HP  Attack  Defense  \\\n",
            "0  1              Bulbasaur  Grass  Poison    318  45      49       49   \n",
            "1  2                Ivysaur  Grass  Poison    405  60      62       63   \n",
            "2  3               Venusaur  Grass  Poison    525  80      82       83   \n",
            "3  3  VenusaurMega Venusaur  Grass  Poison    625  80     100      123   \n",
            "4  4             Charmander   Fire  Flying    309  39      52       43   \n",
            "\n",
            "   Sp. Atk  Sp. Def  Speed  Generation  Legendary  \n",
            "0       65       65     45           1      False  \n",
            "1       80       80     60           1      False  \n",
            "2      100      100     80           1      False  \n",
            "3      122      120     80           1      False  \n",
            "4       60       50     65           1      False  \n"
          ]
        },
        {
          "output_type": "stream",
          "name": "stderr",
          "text": [
            "<ipython-input-58-8e4564b0a045>:3: FutureWarning: A value is trying to be set on a copy of a DataFrame or Series through chained assignment using an inplace method.\n",
            "The behavior will change in pandas 3.0. This inplace method will never work because the intermediate object on which we are setting values always behaves as a copy.\n",
            "\n",
            "For example, when doing 'df[col].method(value, inplace=True)', try using 'df.method({col: value}, inplace=True)' or df[col] = df[col].method(value) instead, to perform the operation inplace on the original object.\n",
            "\n",
            "\n",
            "  pokemon_df['Type 2'].fillna(mode_value, inplace=True)\n"
          ]
        }
      ]
    },
    {
      "cell_type": "markdown",
      "source": [
        "## **Question 3 (5 points):**\n",
        "## Identify columns in your DataFrame that need to be encoded and use the proper encoder for each feature to transform your categorical data into numerical features.\n",
        "\n",
        "## In a sentence per each encoded feature, justify your choice in encoder and why you utilized it"
      ],
      "metadata": {
        "id": "J6bltiTx9dv3"
      }
    },
    {
      "cell_type": "code",
      "source": [
        "# count of unique responses in Type 1\n",
        "pokemon_df['Type 1'].unique()"
      ],
      "metadata": {
        "colab": {
          "base_uri": "https://localhost:8080/"
        },
        "id": "CIAtX85M_hk5",
        "outputId": "6af60d7d-8bb8-4b56-866c-3edc6c9ce907"
      },
      "execution_count": 59,
      "outputs": [
        {
          "output_type": "execute_result",
          "data": {
            "text/plain": [
              "array(['Grass', 'Fire', 'Water', 'Bug', 'Normal', 'Poison', 'Electric',\n",
              "       'Ground', 'Fairy', 'Fighting', 'Psychic', 'Rock', 'Ghost', 'Ice',\n",
              "       'Dragon', 'Dark', 'Steel', 'Flying'], dtype=object)"
            ]
          },
          "metadata": {},
          "execution_count": 59
        }
      ]
    },
    {
      "cell_type": "code",
      "source": [
        "# count of unique responses in Type 2\n",
        "len(pokemon_df['Type 2'].unique())"
      ],
      "metadata": {
        "colab": {
          "base_uri": "https://localhost:8080/"
        },
        "id": "dZV-IFv0_3Vj",
        "outputId": "247e90fd-de88-4de9-b936-889e10363e63"
      },
      "execution_count": 60,
      "outputs": [
        {
          "output_type": "execute_result",
          "data": {
            "text/plain": [
              "18"
            ]
          },
          "metadata": {},
          "execution_count": 60
        }
      ]
    },
    {
      "cell_type": "code",
      "source": [
        "pokemon_df['Legendary'].unique()"
      ],
      "metadata": {
        "colab": {
          "base_uri": "https://localhost:8080/"
        },
        "id": "Q6m6amQCAVhx",
        "outputId": "c831fa46-4ea1-4fd4-facc-9588cc3eafd4"
      },
      "execution_count": 61,
      "outputs": [
        {
          "output_type": "execute_result",
          "data": {
            "text/plain": [
              "array([False,  True])"
            ]
          },
          "metadata": {},
          "execution_count": 61
        }
      ]
    },
    {
      "cell_type": "code",
      "source": [
        "# columns that need to be encoded: Type 1, Type 2, Legendary\n",
        "\n",
        "# Type 1 & Type 2 using OneHotEncoder where 1 if True, 0 otherwise\n",
        "pokemon_df['Type 1'] = pokemon_df['Type 1'].astype(\"string\")\n",
        "pokemon_df['Type 2'] = pokemon_df['Type 2'].astype(\"string\")\n",
        "pokemon_df = pd.get_dummies(pokemon_df, columns=['Type 1','Type 2'], drop_first=True, dtype=int)\n",
        "print(pokemon_df.head())"
      ],
      "metadata": {
        "id": "qXNkpLs396Hw",
        "colab": {
          "base_uri": "https://localhost:8080/"
        },
        "outputId": "2f736985-7311-4601-c694-e71d6d78d53f"
      },
      "execution_count": 62,
      "outputs": [
        {
          "output_type": "stream",
          "name": "stdout",
          "text": [
            "   #                   Name  Total  HP  Attack  Defense  Sp. Atk  Sp. Def  \\\n",
            "0  1              Bulbasaur    318  45      49       49       65       65   \n",
            "1  2                Ivysaur    405  60      62       63       80       80   \n",
            "2  3               Venusaur    525  80      82       83      100      100   \n",
            "3  3  VenusaurMega Venusaur    625  80     100      123      122      120   \n",
            "4  4             Charmander    309  39      52       43       60       50   \n",
            "\n",
            "   Speed  Generation  ...  Type 2_Ghost  Type 2_Grass  Type 2_Ground  \\\n",
            "0     45           1  ...             0             0              0   \n",
            "1     60           1  ...             0             0              0   \n",
            "2     80           1  ...             0             0              0   \n",
            "3     80           1  ...             0             0              0   \n",
            "4     65           1  ...             0             0              0   \n",
            "\n",
            "   Type 2_Ice  Type 2_Normal  Type 2_Poison  Type 2_Psychic  Type 2_Rock  \\\n",
            "0           0              0              1               0            0   \n",
            "1           0              0              1               0            0   \n",
            "2           0              0              1               0            0   \n",
            "3           0              0              1               0            0   \n",
            "4           0              0              0               0            0   \n",
            "\n",
            "   Type 2_Steel  Type 2_Water  \n",
            "0             0             0  \n",
            "1             0             0  \n",
            "2             0             0  \n",
            "3             0             0  \n",
            "4             0             0  \n",
            "\n",
            "[5 rows x 45 columns]\n"
          ]
        }
      ]
    },
    {
      "cell_type": "code",
      "source": [
        "# Legendary convert to binary\n",
        "pokemon_df['Legendary'] = pokemon_df['Legendary'].astype(int)\n",
        "print(pokemon_df['Legendary'].head())"
      ],
      "metadata": {
        "colab": {
          "base_uri": "https://localhost:8080/"
        },
        "id": "lqjeStmZEGhP",
        "outputId": "5dfeec38-432b-44b4-bb02-a2e9f72f5a68"
      },
      "execution_count": 63,
      "outputs": [
        {
          "output_type": "stream",
          "name": "stdout",
          "text": [
            "0    0\n",
            "1    0\n",
            "2    0\n",
            "3    0\n",
            "4    0\n",
            "Name: Legendary, dtype: int64\n"
          ]
        }
      ]
    },
    {
      "cell_type": "markdown",
      "source": [
        "**I encoded Type 1 and Type 2 with OneHotEncoder via pd.get_dummies because they are categorical variables with no ordinal relationships. This encoding allows the model to interpret each type independently without assuming hierarchy. I convered Legendary to a binary integer because its a boolean feature (True/False) and representingit as 1 or 0 is the most efficient way to make it numerical.**"
      ],
      "metadata": {
        "id": "wjnBUtpB96Yu"
      }
    },
    {
      "cell_type": "markdown",
      "source": [
        "## **Question 4 (5 points):**\n",
        "## Finally, identify your numerical columns and apply both standardization and normalization.\n",
        "\n",
        "## Display each numerical column name and its minimum and maximum values in a DataFrame after these 2 processes.\n",
        "\n",
        "## In 2 to 3 sentences, summarize the DataFrame and the effects of your choice in standardization and normalization had on your numerical features? Why would scaling your data be beneficial for unsupervised learning?"
      ],
      "metadata": {
        "id": "lGZ8stUWmnjx"
      }
    },
    {
      "cell_type": "code",
      "source": [
        "from sklearn.preprocessing import StandardScaler, MinMaxScaler"
      ],
      "metadata": {
        "id": "MeiqvF3Bvhd_"
      },
      "execution_count": 64,
      "outputs": []
    },
    {
      "cell_type": "code",
      "source": [
        "# standardization\n",
        "numeric_cols = ['Total','HP','Attack','Defense','Sp. Atk','Sp. Def','Speed','Generation']\n",
        "\n",
        "std_scaler = StandardScaler()\n",
        "pokemon_df[numeric_cols] = std_scaler.fit_transform(pokemon_df[numeric_cols])\n",
        "print(pokemon_df)"
      ],
      "metadata": {
        "id": "aN8PTkRuis-n",
        "outputId": "2194375f-638c-49af-a370-0097b680acc5",
        "colab": {
          "base_uri": "https://localhost:8080/"
        }
      },
      "execution_count": 65,
      "outputs": [
        {
          "output_type": "stream",
          "name": "stdout",
          "text": [
            "       #                   Name     Total        HP    Attack   Defense  \\\n",
            "0      1              Bulbasaur -0.976765 -0.950626 -0.924906 -0.797154   \n",
            "1      2                Ivysaur -0.251088 -0.362822 -0.524130 -0.347917   \n",
            "2      3               Venusaur  0.749845  0.420917  0.092448  0.293849   \n",
            "3      3  VenusaurMega Venusaur  1.583957  0.420917  0.647369  1.577381   \n",
            "4      4             Charmander -1.051836 -1.185748 -0.832419 -0.989683   \n",
            "..   ...                    ...       ...       ...       ...       ...   \n",
            "795  719                Diancie  1.375429 -0.754692  0.647369  2.443765   \n",
            "796  719    DiancieMega Diancie  2.209541 -0.754692  2.497104  1.160233   \n",
            "797  720    HoopaHoopa Confined  1.375429  0.420917  0.955658 -0.444182   \n",
            "798  720     HoopaHoopa Unbound  2.042718  0.420917  2.497104 -0.444182   \n",
            "799  721              Volcanion  1.375429  0.420917  0.955658  1.481116   \n",
            "\n",
            "      Sp. Atk   Sp. Def     Speed  Generation  ...  Type 2_Ghost  \\\n",
            "0   -0.239130 -0.248189 -0.801503   -1.399637  ...             0   \n",
            "1    0.219560  0.291156 -0.285015   -1.399637  ...             0   \n",
            "2    0.831146  1.010283  0.403635   -1.399637  ...             0   \n",
            "3    1.503891  1.729409  0.403635   -1.399637  ...             0   \n",
            "4   -0.392027 -0.787533 -0.112853   -1.399637  ...             0   \n",
            "..        ...       ...       ...         ...  ...           ...   \n",
            "795  0.831146  2.808099 -0.629341    1.611954  ...             0   \n",
            "796  2.665905  1.369846  1.436611    1.611954  ...             0   \n",
            "797  2.360112  2.088973  0.059310    1.611954  ...             1   \n",
            "798  2.971699  2.088973  0.403635    1.611954  ...             0   \n",
            "799  1.748526  0.650720  0.059310    1.611954  ...             0   \n",
            "\n",
            "     Type 2_Grass  Type 2_Ground  Type 2_Ice  Type 2_Normal  Type 2_Poison  \\\n",
            "0               0              0           0              0              1   \n",
            "1               0              0           0              0              1   \n",
            "2               0              0           0              0              1   \n",
            "3               0              0           0              0              1   \n",
            "4               0              0           0              0              0   \n",
            "..            ...            ...         ...            ...            ...   \n",
            "795             0              0           0              0              0   \n",
            "796             0              0           0              0              0   \n",
            "797             0              0           0              0              0   \n",
            "798             0              0           0              0              0   \n",
            "799             0              0           0              0              0   \n",
            "\n",
            "     Type 2_Psychic  Type 2_Rock  Type 2_Steel  Type 2_Water  \n",
            "0                 0            0             0             0  \n",
            "1                 0            0             0             0  \n",
            "2                 0            0             0             0  \n",
            "3                 0            0             0             0  \n",
            "4                 0            0             0             0  \n",
            "..              ...          ...           ...           ...  \n",
            "795               0            0             0             0  \n",
            "796               0            0             0             0  \n",
            "797               0            0             0             0  \n",
            "798               0            0             0             0  \n",
            "799               0            0             0             1  \n",
            "\n",
            "[800 rows x 45 columns]\n"
          ]
        }
      ]
    },
    {
      "cell_type": "code",
      "source": [
        "# normalization\n",
        "norm_scaler = MinMaxScaler()\n",
        "pokemon_df[numeric_cols] = norm_scaler.fit_transform(pokemon_df[numeric_cols])\n",
        "print(pokemon_df)"
      ],
      "metadata": {
        "id": "byJXk-yJkK61",
        "outputId": "21861294-dbd9-4c37-a706-9f585ec1a08e",
        "colab": {
          "base_uri": "https://localhost:8080/"
        }
      },
      "execution_count": 66,
      "outputs": [
        {
          "output_type": "stream",
          "name": "stdout",
          "text": [
            "       #                   Name     Total        HP    Attack   Defense  \\\n",
            "0      1              Bulbasaur  0.230000  0.173228  0.237838  0.195556   \n",
            "1      2                Ivysaur  0.375000  0.232283  0.308108  0.257778   \n",
            "2      3               Venusaur  0.575000  0.311024  0.416216  0.346667   \n",
            "3      3  VenusaurMega Venusaur  0.741667  0.311024  0.513514  0.524444   \n",
            "4      4             Charmander  0.215000  0.149606  0.254054  0.168889   \n",
            "..   ...                    ...       ...       ...       ...       ...   \n",
            "795  719                Diancie  0.700000  0.192913  0.513514  0.644444   \n",
            "796  719    DiancieMega Diancie  0.866667  0.192913  0.837838  0.466667   \n",
            "797  720    HoopaHoopa Confined  0.700000  0.311024  0.567568  0.244444   \n",
            "798  720     HoopaHoopa Unbound  0.833333  0.311024  0.837838  0.244444   \n",
            "799  721              Volcanion  0.700000  0.311024  0.567568  0.511111   \n",
            "\n",
            "      Sp. Atk   Sp. Def     Speed  Generation  ...  Type 2_Ghost  \\\n",
            "0    0.298913  0.214286  0.228571         0.0  ...             0   \n",
            "1    0.380435  0.285714  0.314286         0.0  ...             0   \n",
            "2    0.489130  0.380952  0.428571         0.0  ...             0   \n",
            "3    0.608696  0.476190  0.428571         0.0  ...             0   \n",
            "4    0.271739  0.142857  0.342857         0.0  ...             0   \n",
            "..        ...       ...       ...         ...  ...           ...   \n",
            "795  0.489130  0.619048  0.257143         1.0  ...             0   \n",
            "796  0.815217  0.428571  0.600000         1.0  ...             0   \n",
            "797  0.760870  0.523810  0.371429         1.0  ...             1   \n",
            "798  0.869565  0.523810  0.428571         1.0  ...             0   \n",
            "799  0.652174  0.333333  0.371429         1.0  ...             0   \n",
            "\n",
            "     Type 2_Grass  Type 2_Ground  Type 2_Ice  Type 2_Normal  Type 2_Poison  \\\n",
            "0               0              0           0              0              1   \n",
            "1               0              0           0              0              1   \n",
            "2               0              0           0              0              1   \n",
            "3               0              0           0              0              1   \n",
            "4               0              0           0              0              0   \n",
            "..            ...            ...         ...            ...            ...   \n",
            "795             0              0           0              0              0   \n",
            "796             0              0           0              0              0   \n",
            "797             0              0           0              0              0   \n",
            "798             0              0           0              0              0   \n",
            "799             0              0           0              0              0   \n",
            "\n",
            "     Type 2_Psychic  Type 2_Rock  Type 2_Steel  Type 2_Water  \n",
            "0                 0            0             0             0  \n",
            "1                 0            0             0             0  \n",
            "2                 0            0             0             0  \n",
            "3                 0            0             0             0  \n",
            "4                 0            0             0             0  \n",
            "..              ...          ...           ...           ...  \n",
            "795               0            0             0             0  \n",
            "796               0            0             0             0  \n",
            "797               0            0             0             0  \n",
            "798               0            0             0             0  \n",
            "799               0            0             0             1  \n",
            "\n",
            "[800 rows x 45 columns]\n"
          ]
        }
      ]
    },
    {
      "cell_type": "code",
      "source": [
        "# display each numerical column name\n",
        "print(numeric_cols)"
      ],
      "metadata": {
        "id": "xJH4DHNpcVp4",
        "outputId": "e899486c-4a73-4b9c-9bd9-20c48f460b04",
        "colab": {
          "base_uri": "https://localhost:8080/"
        }
      },
      "execution_count": 67,
      "outputs": [
        {
          "output_type": "stream",
          "name": "stdout",
          "text": [
            "['Total', 'HP', 'Attack', 'Defense', 'Sp. Atk', 'Sp. Def', 'Speed', 'Generation']\n"
          ]
        }
      ]
    },
    {
      "cell_type": "code",
      "source": [
        "# min of each numerical column after standardization and normalization\n",
        "print(pokemon_df[numeric_cols].min())"
      ],
      "metadata": {
        "id": "zpEH_NF7ckxh",
        "outputId": "6449c0b1-ccbd-40c8-b62d-0e503ffb3ea6",
        "colab": {
          "base_uri": "https://localhost:8080/"
        }
      },
      "execution_count": 68,
      "outputs": [
        {
          "output_type": "stream",
          "name": "stdout",
          "text": [
            "Total         0.0\n",
            "HP            0.0\n",
            "Attack        0.0\n",
            "Defense       0.0\n",
            "Sp. Atk       0.0\n",
            "Sp. Def       0.0\n",
            "Speed         0.0\n",
            "Generation    0.0\n",
            "dtype: float64\n"
          ]
        }
      ]
    },
    {
      "cell_type": "code",
      "source": [
        "# max of each numerical column after standardization and normalization\n",
        "print(pokemon_df[numeric_cols].max())"
      ],
      "metadata": {
        "id": "LBpmGNSIccWV",
        "outputId": "e5cbac36-e13b-4fad-b11b-d3819a17d76d",
        "colab": {
          "base_uri": "https://localhost:8080/"
        }
      },
      "execution_count": 69,
      "outputs": [
        {
          "output_type": "stream",
          "name": "stdout",
          "text": [
            "Total         1.0\n",
            "HP            1.0\n",
            "Attack        1.0\n",
            "Defense       1.0\n",
            "Sp. Atk       1.0\n",
            "Sp. Def       1.0\n",
            "Speed         1.0\n",
            "Generation    1.0\n",
            "dtype: float64\n"
          ]
        }
      ]
    },
    {
      "cell_type": "markdown",
      "source": [
        "**The methods I used to standardize and normalize my data caused the values of my data to range from 0 to 1. The DataFrame contains the numerical features, Total, HP, Attack, Defense, Sp. Atk, Sp. Def, Speed, and Generation, along with other categorical features.**\n",
        "\n",
        "**I think scaling your data is helpful for unsupervised learning because the standardization converted the numerical features into z-scores (centering the data around 0), while normalization rescaled then between 0 and 1, ensuring that each feature contributes equally for unsupervised learning tasks without being dominated by larger numeric ranges.**"
      ],
      "metadata": {
        "id": "CHa_7vvUvhmx"
      }
    },
    {
      "cell_type": "markdown",
      "source": [
        "## **Question 5 (7 points):**\n",
        "## Create a function to instantiate K-Means Clustering model with a user inputted parameter for \"k\" number clusters. Also tune a minimum of 3 hyperparameters of your choice, referencing documentation as necessary:\n",
        "* https://scikit-learn.org/stable/modules/generated/sklearn.cluster.KMeans.html  \n",
        "\n",
        "\n",
        "## Fit your model to your data, adding your predictions in a column of your DataFrame called cluster. Return this new dataframe in your function. Call your function on your data with k = 3."
      ],
      "metadata": {
        "id": "3XtTm6UlBz8M"
      }
    },
    {
      "cell_type": "code",
      "source": [
        "from sklearn.cluster import KMeans"
      ],
      "metadata": {
        "id": "iM0bd9yIhG8l"
      },
      "execution_count": 70,
      "outputs": []
    },
    {
      "cell_type": "code",
      "source": [
        "features = pokemon_df.drop(columns=['#','Name'])\n",
        "print(features.head())"
      ],
      "metadata": {
        "id": "GhGxLyzxh07x",
        "outputId": "d53b213b-9a05-47c8-ae95-33a4b7cb6929",
        "colab": {
          "base_uri": "https://localhost:8080/"
        }
      },
      "execution_count": 71,
      "outputs": [
        {
          "output_type": "stream",
          "name": "stdout",
          "text": [
            "      Total        HP    Attack   Defense   Sp. Atk   Sp. Def     Speed  \\\n",
            "0  0.230000  0.173228  0.237838  0.195556  0.298913  0.214286  0.228571   \n",
            "1  0.375000  0.232283  0.308108  0.257778  0.380435  0.285714  0.314286   \n",
            "2  0.575000  0.311024  0.416216  0.346667  0.489130  0.380952  0.428571   \n",
            "3  0.741667  0.311024  0.513514  0.524444  0.608696  0.476190  0.428571   \n",
            "4  0.215000  0.149606  0.254054  0.168889  0.271739  0.142857  0.342857   \n",
            "\n",
            "   Generation  Legendary  Type 1_Dark  ...  Type 2_Ghost  Type 2_Grass  \\\n",
            "0         0.0          0            0  ...             0             0   \n",
            "1         0.0          0            0  ...             0             0   \n",
            "2         0.0          0            0  ...             0             0   \n",
            "3         0.0          0            0  ...             0             0   \n",
            "4         0.0          0            0  ...             0             0   \n",
            "\n",
            "   Type 2_Ground  Type 2_Ice  Type 2_Normal  Type 2_Poison  Type 2_Psychic  \\\n",
            "0              0           0              0              1               0   \n",
            "1              0           0              0              1               0   \n",
            "2              0           0              0              1               0   \n",
            "3              0           0              0              1               0   \n",
            "4              0           0              0              0               0   \n",
            "\n",
            "   Type 2_Rock  Type 2_Steel  Type 2_Water  \n",
            "0            0             0             0  \n",
            "1            0             0             0  \n",
            "2            0             0             0  \n",
            "3            0             0             0  \n",
            "4            0             0             0  \n",
            "\n",
            "[5 rows x 43 columns]\n"
          ]
        }
      ]
    },
    {
      "cell_type": "code",
      "source": [
        "# function\n",
        "def k_means(k,df):\n",
        "  kmeans = KMeans(n_clusters=k, random_state=3001, max_iter=500, init='random')\n",
        "  pokemon_df['cluser'] = kmeans.fit_predict(features)\n",
        "  return df"
      ],
      "metadata": {
        "id": "J3pGjmTvCLlu"
      },
      "execution_count": 72,
      "outputs": []
    },
    {
      "cell_type": "code",
      "source": [
        "cluster_df = k_means(3, pokemon_df)\n",
        "print(cluster_df.head())"
      ],
      "metadata": {
        "id": "RfSbbilrjoTJ",
        "outputId": "61317f0b-f87f-4f11-99dc-1d85ec6e2292",
        "colab": {
          "base_uri": "https://localhost:8080/"
        }
      },
      "execution_count": 75,
      "outputs": [
        {
          "output_type": "stream",
          "name": "stdout",
          "text": [
            "   #                   Name     Total        HP    Attack   Defense   Sp. Atk  \\\n",
            "0  1              Bulbasaur  0.230000  0.173228  0.237838  0.195556  0.298913   \n",
            "1  2                Ivysaur  0.375000  0.232283  0.308108  0.257778  0.380435   \n",
            "2  3               Venusaur  0.575000  0.311024  0.416216  0.346667  0.489130   \n",
            "3  3  VenusaurMega Venusaur  0.741667  0.311024  0.513514  0.524444  0.608696   \n",
            "4  4             Charmander  0.215000  0.149606  0.254054  0.168889  0.271739   \n",
            "\n",
            "    Sp. Def     Speed  Generation  ...  Type 2_Grass  Type 2_Ground  \\\n",
            "0  0.214286  0.228571         0.0  ...             0              0   \n",
            "1  0.285714  0.314286         0.0  ...             0              0   \n",
            "2  0.380952  0.428571         0.0  ...             0              0   \n",
            "3  0.476190  0.428571         0.0  ...             0              0   \n",
            "4  0.142857  0.342857         0.0  ...             0              0   \n",
            "\n",
            "   Type 2_Ice  Type 2_Normal  Type 2_Poison  Type 2_Psychic  Type 2_Rock  \\\n",
            "0           0              0              1               0            0   \n",
            "1           0              0              1               0            0   \n",
            "2           0              0              1               0            0   \n",
            "3           0              0              1               0            0   \n",
            "4           0              0              0               0            0   \n",
            "\n",
            "   Type 2_Steel  Type 2_Water  cluser  \n",
            "0             0             0       2  \n",
            "1             0             0       2  \n",
            "2             0             0       2  \n",
            "3             0             0       2  \n",
            "4             0             0       1  \n",
            "\n",
            "[5 rows x 46 columns]\n"
          ]
        }
      ]
    },
    {
      "cell_type": "markdown",
      "source": [
        "## **Question 6 (5 points):**\n",
        "## Write code to plot your predicted clusters, with different colors for different cluster numbers. Apply this code to the predictions you obtained in Question 5 and describe the output.\n",
        "\n",
        "## In a minimum of 3 sentences, based on all the information you have, describe why k = 3 seems like a reasonable or unreasounable amount of clusters for your data."
      ],
      "metadata": {
        "id": "JKfd1qT3DG15"
      }
    },
    {
      "cell_type": "code",
      "source": [],
      "metadata": {
        "id": "L3_eMBsQDGpB"
      },
      "execution_count": 72,
      "outputs": []
    },
    {
      "cell_type": "markdown",
      "source": [
        "**Because the predicted clusters show XYZ, I believe k=3 is/is not a reasonable choice...**"
      ],
      "metadata": {
        "id": "r-aHg1r8En0o"
      }
    },
    {
      "cell_type": "markdown",
      "source": [
        "## **Question 7 (8 points):**\n",
        "## Plot an elbow plot for your clustering model with any metric of your choice and pick an optimal k value.\n",
        "\n",
        "## Then, utilize the optimal k to tune at least 3 K-Means Clustering models by varying the hyperparameters. For each model, you will use the optimal k number of clusters you identified in your elbow plot but vary at least 3 other hyperparameters. Plot your predicted clusters differentiated by color."
      ],
      "metadata": {
        "id": "9DsYr4-9E5Ek"
      }
    },
    {
      "cell_type": "code",
      "source": [
        "# elbow plot for optimal k value\n",
        "inertia = []\n",
        "for k in range(2,11):\n",
        "  kmeans = KMeans(n_clusters=k, random_state=3001, max_iter=500, init='random')\n",
        "  kmeans.fit(features)\n",
        "  inertia.append(kmeans.inertia_)\n",
        "\n",
        "plt.figure(figsize=(10,5))\n",
        "plt.subplot(1,2,1)\n",
        "plt.plot(range(2,11), inertia, marker='o')\n",
        "plt.title('Elbow Plot for Optimal K using Inertia')"
      ],
      "metadata": {
        "id": "FyM12M0cF3F7",
        "outputId": "6c747f8d-499d-4091-8bb1-3bef7c680dd4",
        "colab": {
          "base_uri": "https://localhost:8080/",
          "height": 486
        }
      },
      "execution_count": 80,
      "outputs": [
        {
          "output_type": "execute_result",
          "data": {
            "text/plain": [
              "Text(0.5, 1.0, 'Elbow Plot for Optimal K using Inertia')"
            ]
          },
          "metadata": {},
          "execution_count": 80
        },
        {
          "output_type": "display_data",
          "data": {
            "text/plain": [
              "<Figure size 1000x500 with 1 Axes>"
            ],
            "image/png": "[encoded data removed]"
          },
          "metadata": {}
        }
      ]
    },
    {
      "cell_type": "markdown",
      "source": [
        "## In a minimum of 5 sentences, reflect on your tuned models. Write what you judge the optimal amount of clusters to be and why. How do the plots of your clusters change with tuning specific parameters? Do your results make sense?"
      ],
      "metadata": {
        "id": "2ow9JBD8G3ob"
      }
    },
    {
      "cell_type": "markdown",
      "source": [
        "**I picked a k of X clusters because...**\n",
        "\n",
        "**Yes. My tuned models make sense because...**"
      ],
      "metadata": {
        "id": "Fo5iLpKRF3nn"
      }
    },
    {
      "cell_type": "markdown",
      "source": [
        "## **Question 8 (10 points):**\n",
        "## Now, examine the makeup of your clusters. Create plots and visualizations that may explain your initial groupings.\n",
        "\n",
        "## You may do this by color coding your clusters by a given feature or by examining descriptive statistics of each cluster (ie: cluster 1 has an average temperature of 15 while cluster 2....)\n",
        "\n",
        "## Write a **10 to 15 sentence** reflection on why you think your clusters have oriented the way they display. Are you clusters similar are very different in their feature makeup? Are you clusters similarly sized or are some much larger or smaller? Are there any aspects of the clusters that don't make sense when compared your original data or targets?\n",
        "\n",
        "\n"
      ],
      "metadata": {
        "id": "mKrWUaMcGMG1"
      }
    },
    {
      "cell_type": "code",
      "source": [],
      "metadata": {
        "id": "bJqBcvlnH-6M"
      },
      "execution_count": 72,
      "outputs": []
    },
    {
      "cell_type": "markdown",
      "source": [
        "**After examining my clusters, I believe the groupings make sense because....**"
      ],
      "metadata": {
        "id": "0Im8ArFmH_1R"
      }
    },
    {
      "cell_type": "markdown",
      "metadata": {
        "id": "cU2O0tkmoaxB"
      },
      "source": [
        "# **Part 2: Principal Component Analysis (50 Points)**"
      ]
    },
    {
      "cell_type": "markdown",
      "source": [
        "## **Question 1 (15 points):**\n",
        "## Fit a PCA model to a dataset if your choice. Write code to visualize the first 2 principal components and color code your groups to differentiate them.\n",
        "\n"
      ],
      "metadata": {
        "id": "tAYnauLpOSma"
      }
    },
    {
      "cell_type": "code",
      "source": [],
      "metadata": {
        "id": "5SyhRJB9HZ3I"
      },
      "execution_count": 72,
      "outputs": []
    },
    {
      "cell_type": "markdown",
      "source": [
        "## **Question 2 (10 points):**\n",
        "## Create 2 barplots:\n",
        "\n",
        "*   The first barplot should show the percentage variance explained by each principal component\n",
        "\n",
        "* The first barplot should show the **cumulative** percentage variance explained by each principal component. Add a horizontal red line on this graph depicting when the cumulative variance has hit 80%.\n",
        "\n",
        "\n",
        "## Write 2 to 3 sentences on how many components explain 80% of the variability in your dataset. Are the results surprising given how much variance is in (or not in) your data? What features would you consider dropping based on your results and why?\n"
      ],
      "metadata": {
        "id": "07ymrylhOwLk"
      }
    },
    {
      "cell_type": "code",
      "source": [],
      "metadata": {
        "id": "ZI5av9ewPGV2"
      },
      "execution_count": 72,
      "outputs": []
    },
    {
      "cell_type": "markdown",
      "source": [
        "**It tales N components to explain...**\n",
        "\n",
        "**I would consider dropping...**"
      ],
      "metadata": {
        "id": "JoN_J4AuPaWG"
      }
    },
    {
      "cell_type": "markdown",
      "source": [
        "## **Question 3 (25 points):**\n",
        "## Write **3 paragraphs**, supported by code and exploratory analysis, explaining and exploring the groupings you see in your data. Utilize data features to justify why the components that explain so much of the variance in your data are reasonable. Explain what kind of applications or decision making your analysis can help support.\n",
        "\n",
        "## You may choose to explore beyond simply the first 2 principal components if you wish.\n",
        "\n"
      ],
      "metadata": {
        "id": "PK00jGAzOj6A"
      }
    },
    {
      "cell_type": "code",
      "source": [],
      "metadata": {
        "id": "xNQmb9m2P1VW"
      },
      "execution_count": 72,
      "outputs": []
    },
    {
      "cell_type": "markdown",
      "source": [
        "**The principal components show...**\n",
        "\n",
        "**The PCs responsible for explaining the majority of variance...**\n",
        "\n",
        "**These results can be used for...**"
      ],
      "metadata": {
        "id": "dGnDLN8oP1es"
      }
    },
    {
      "cell_type": "markdown",
      "metadata": {
        "id": "x1KiVMvjNKGU"
      },
      "source": [
        "### Honor Pledge"
      ]
    },
    {
      "cell_type": "markdown",
      "metadata": {
        "id": "Jo-hwQo5LBAk"
      },
      "source": [
        "On my honor as a student, I have neither given nor received unauthorized aid on this assignment."
      ]
    }
  ],
  "metadata": {
    "colab": {
      "provenance": [],
      "include_colab_link": true
    },
    "kernelspec": {
      "display_name": "Python 3 (ipykernel)",
      "language": "python",
      "name": "python3"
    },
    "language_info": {
      "codemirror_mode": {
        "name": "ipython",
        "version": 3
      },
      "file_extension": ".py",
      "mimetype": "text/x-python",
      "name": "python",
      "nbconvert_exporter": "python",
      "pygments_lexer": "ipython3",
      "version": "3.8.17"
    }
  },
  "nbformat": 4,
  "nbformat_minor": 0
}