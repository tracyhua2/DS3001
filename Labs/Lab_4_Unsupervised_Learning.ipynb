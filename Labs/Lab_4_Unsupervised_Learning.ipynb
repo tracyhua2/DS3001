{
 "cells": [
  {
   "cell_type": "markdown",
   "metadata": {
    "id": "Hkkb_7LYKsG4"
   },
   "source": [
    "## **Name:** First Last\n",
    "\n",
    "## **Computing ID:** ID"
   ]
  },
  {
   "cell_type": "code",
   "execution_count": 2,
   "metadata": {
    "id": "1DAOPfwqMV5t"
   },
   "outputs": [],
   "source": [
    "import pandas as pd\n",
    "import numpy as np\n",
    "import matplotlib.pyplot as plt\n",
    "import tensorflow as tf"
   ]
  },
  {
   "cell_type": "markdown",
   "metadata": {
    "id": "r4A9sts1JrTc"
   },
   "source": [
    "# Lab 4: Unsupervised Learning (100 Points)"
   ]
  },
  {
   "cell_type": "markdown",
   "metadata": {},
   "source": [
    "[![Open In Colab](https://colab.research.google.com/assets/colab-badge.svg)](https://colab.research.google.com/drive/1CqzvUaaggcKdCvVi6dS9BAeB9nuQl_Ns?usp=sharing)"
   ]
  },
  {
   "cell_type": "markdown",
   "metadata": {
    "id": "v2MiKceoh6yF"
   },
   "source": [
    "In this lab, we will implement 2 models in the unsupervised learning family **K-means clustering** and **Principal Component Analysis (PCA)**.\n",
    "\n",
    "You will utilize the skills you have gained over the semester to build, explore, and evaluate your models. As always, you will be graded on your model building and interpretation of  results rather than specific performance."
   ]
  },
  {
   "cell_type": "markdown",
   "metadata": {
    "id": "rcS_RpJ-D2JS"
   },
   "source": [
    "![](https://miro.medium.com/v2/resize:fit:1400/format:webp/0*h-lAg5H-ZNDRXxX2.png)"
   ]
  },
  {
   "cell_type": "markdown",
   "metadata": {
    "id": "h_LpB5eWiTF0"
   },
   "source": [
    "# **Part 1: K-Means Clustering (50 points)**"
   ]
  },
  {
   "cell_type": "markdown",
   "metadata": {
    "id": "lJdA3izfjZKn"
   },
   "source": [
    "## For Part 1, you will pick from the following preloaded datasets:\n",
    "\n"
   ]
  },
  {
   "cell_type": "code",
   "execution_count": 3,
   "metadata": {
    "id": "7tMNSv0ZBUxk"
   },
   "outputs": [],
   "source": [
    "pokemon_df = pd.read_csv(\"https://gist.githubusercontent.com/armgilles/194bcff35001e7eb53a2a8b441e8b2c6/raw/92200bc0a673d5ce2110aaad4544ed6c4010f687/pokemon.csv\")"
   ]
  },
  {
   "cell_type": "code",
   "execution_count": 4,
   "metadata": {
    "colab": {
     "base_uri": "https://localhost:8080/"
    },
    "id": "OjVlA0LCBVLo",
    "outputId": "43f7f98a-e313-4b11-82cc-c11c461a53c9"
   },
   "outputs": [
    {
     "name": "stdout",
     "output_type": "stream",
     "text": [
      "Downloading data from https://storage.googleapis.com/tensorflow/tf-keras-datasets/train-labels-idx1-ubyte.gz\n",
      "\u001b[1m29515/29515\u001b[0m \u001b[32m━━━━━━━━━━━━━━━━━━━━\u001b[0m\u001b[37m\u001b[0m \u001b[1m0s\u001b[0m 0us/step\n",
      "Downloading data from https://storage.googleapis.com/tensorflow/tf-keras-datasets/train-images-idx3-ubyte.gz\n",
      "\u001b[1m26421880/26421880\u001b[0m \u001b[32m━━━━━━━━━━━━━━━━━━━━\u001b[0m\u001b[37m\u001b[0m \u001b[1m2s\u001b[0m 0us/step\n",
      "Downloading data from https://storage.googleapis.com/tensorflow/tf-keras-datasets/t10k-labels-idx1-ubyte.gz\n",
      "\u001b[1m5148/5148\u001b[0m \u001b[32m━━━━━━━━━━━━━━━━━━━━\u001b[0m\u001b[37m\u001b[0m \u001b[1m0s\u001b[0m 0us/step\n",
      "Downloading data from https://storage.googleapis.com/tensorflow/tf-keras-datasets/t10k-images-idx3-ubyte.gz\n",
      "\u001b[1m4422102/4422102\u001b[0m \u001b[32m━━━━━━━━━━━━━━━━━━━━\u001b[0m\u001b[37m\u001b[0m \u001b[1m1s\u001b[0m 0us/step\n"
     ]
    }
   ],
   "source": [
    "# Load Fashion MNIST data\n",
    "fashion_mnist = tf.keras.datasets.fashion_mnist\n",
    "(train_images, train_labels), (test_images, test_labels) = fashion_mnist.load_data()"
   ]
  },
  {
   "cell_type": "markdown",
   "metadata": {
    "id": "IR8FBoX3BPgT"
   },
   "source": [
    "**Another option open to you, if you wish, is to  utilize a dataset of your choice (including your final project dataset).**\n"
   ]
  },
  {
   "cell_type": "markdown",
   "metadata": {
    "id": "M6Hb_Ab7BSc5"
   },
   "source": [
    "In a text cell, answer the following exploratory questions and support your observations with any code, if needed."
   ]
  },
  {
   "cell_type": "markdown",
   "metadata": {
    "id": "m4xxMTbVTIUP"
   },
   "source": [
    "## **Question 1 (5 points):**\n",
    "## Read in your dataset as a Pandas DataFrame. Show the first 5 rows. How many rows and columns do you have?\n",
    "\n",
    "## What are your features and their datatypes?"
   ]
  },
  {
   "cell_type": "code",
   "execution_count": null,
   "metadata": {
    "id": "HefBwSXYnjdW"
   },
   "outputs": [],
   "source": []
  },
  {
   "cell_type": "markdown",
   "metadata": {
    "id": "IGjYDY6O-EIT"
   },
   "source": [
    "**There is a total of...**"
   ]
  },
  {
   "cell_type": "markdown",
   "metadata": {
    "id": "JgxckMLW7mq7"
   },
   "source": [
    "## **Question 2 (5 points):**\n",
    "## Identify what percentage of each column has missing values and display this information (column name, percentage values missing) in a DataFrame.\n",
    "\n",
    "## Then, fill in any missing values using any method appropriate for each column's data type and values."
   ]
  },
  {
   "cell_type": "code",
   "execution_count": null,
   "metadata": {
    "id": "qKooDsqm8jQ7"
   },
   "outputs": [],
   "source": []
  },
  {
   "cell_type": "markdown",
   "metadata": {
    "id": "J6bltiTx9dv3"
   },
   "source": [
    "## **Question 3 (5 points):**\n",
    "## Identify columns in your DataFrame that need to be encoded and use the proper encoder for each feature to transform your categorical data into numerical features.\n",
    "\n",
    "## In a sentence per each encoded feature, justify your choice in encoder and why you utilized it"
   ]
  },
  {
   "cell_type": "code",
   "execution_count": null,
   "metadata": {
    "id": "qXNkpLs396Hw"
   },
   "outputs": [],
   "source": []
  },
  {
   "cell_type": "markdown",
   "metadata": {
    "id": "wjnBUtpB96Yu"
   },
   "source": [
    "**I encoded Feature A with XYZ encoding because...**"
   ]
  },
  {
   "cell_type": "markdown",
   "metadata": {
    "id": "lGZ8stUWmnjx"
   },
   "source": [
    "## **Question 4 (5 points):**\n",
    "## Finally, identify your numerical columns and apply both standardization and normalization.\n",
    "\n",
    "## Display each numerical column name and its minimum and maximum values in a DataFrame after these 2 processes.\n",
    "\n",
    "## In 2 to 3 sentences, summarize the DataFrame and the effects of your choice in standardization and normalization had on your numerical features? Why would scaling your data be beneficial for unsupervised learning?"
   ]
  },
  {
   "cell_type": "code",
   "execution_count": null,
   "metadata": {
    "id": "MeiqvF3Bvhd_"
   },
   "outputs": [],
   "source": []
  },
  {
   "cell_type": "markdown",
   "metadata": {
    "id": "CHa_7vvUvhmx"
   },
   "source": [
    "**The methods I used to standardize and normalize my data caused the values of my data to range...**\n",
    "\n",
    "**I think scaling your data is helpful for unsupervised learning because scaled data...**"
   ]
  },
  {
   "cell_type": "markdown",
   "metadata": {
    "id": "3XtTm6UlBz8M"
   },
   "source": [
    "## **Question 5 (7 points):**\n",
    "## Create a function to instantiate K-Means Clustering model with a user inputted parameter for \"k\" number clusters. Also tune a minimum of 3 hyperparameters of your choice, referencing documentation as necessary:\n",
    "* https://scikit-learn.org/stable/modules/generated/sklearn.cluster.KMeans.html  \n",
    "\n",
    "\n",
    "## Fit your model to your data, adding your predictions in a column of your DataFrame called cluster. Return this new dataframe in your function. Call your function on your data with k = 3."
   ]
  },
  {
   "cell_type": "code",
   "execution_count": null,
   "metadata": {
    "id": "J3pGjmTvCLlu"
   },
   "outputs": [],
   "source": []
  },
  {
   "cell_type": "markdown",
   "metadata": {
    "id": "JKfd1qT3DG15"
   },
   "source": [
    "## **Question 6 (5 points):**\n",
    "## Write code to plot your predicted clusters, with different colors for different cluster numbers. Apply this code to the predictions you obtained in Question 5 and describe the output.\n",
    "\n",
    "## In a minimum of 3 sentences, based on all the information you have, describe why k = 3 seems like a reasonable or unreasounable amount of clusters for your data."
   ]
  },
  {
   "cell_type": "code",
   "execution_count": null,
   "metadata": {
    "id": "L3_eMBsQDGpB"
   },
   "outputs": [],
   "source": []
  },
  {
   "cell_type": "markdown",
   "metadata": {
    "id": "r-aHg1r8En0o"
   },
   "source": [
    "**Because the predicted clusters show XYZ, I believe k=3 is/is not a reasonable choice...**"
   ]
  },
  {
   "cell_type": "markdown",
   "metadata": {
    "id": "9DsYr4-9E5Ek"
   },
   "source": [
    "## **Question 7 (8 points):**\n",
    "## Plot an elbow plot for your clustering model with any metric of your choice and pick an optimal k value.\n",
    "\n",
    "## Then, utilize the optimal k to tune at least 3 K-Means Clustering models by varying the hyperparameters. For each model, you will use the optimal k number of clusters you identified in your elbow plot but vary at least 3 other hyperparameters. Plot your predicted clusters differentiated by color."
   ]
  },
  {
   "cell_type": "code",
   "execution_count": null,
   "metadata": {
    "id": "FyM12M0cF3F7"
   },
   "outputs": [],
   "source": []
  },
  {
   "cell_type": "markdown",
   "metadata": {
    "id": "2ow9JBD8G3ob"
   },
   "source": [
    "## In a minimum of 5 sentences, reflect on your tuned models. Write what you judge the optimal amount of clusters to be and why. How do the plots of your clusters change with tuning specific parameters? Do your results make sense?"
   ]
  },
  {
   "cell_type": "markdown",
   "metadata": {
    "id": "Fo5iLpKRF3nn"
   },
   "source": [
    "**I picked a k of X clusters because...**\n",
    "\n",
    "**Yes. My tuned models make sense because...**"
   ]
  },
  {
   "cell_type": "markdown",
   "metadata": {
    "id": "mKrWUaMcGMG1"
   },
   "source": [
    "## **Question 8 (10 points):**\n",
    "## Now, examine the makeup of your clusters. Create plots and visualizations that may explain your initial groupings.\n",
    "\n",
    "## You may do this by color coding your clusters by a given feature or by examining descriptive statistics of each cluster (ie: cluster 1 has an average temperature of 15 while cluster 2....)\n",
    "\n",
    "## Write a **10 to 15 sentence** reflection on why you think your clusters have oriented the way they display. Are you clusters similar are very different in their feature makeup? Are you clusters similarly sized or are some much larger or smaller? Are there any aspects of the clusters that don't make sense when compared your original data or targets?\n",
    "\n",
    "\n"
   ]
  },
  {
   "cell_type": "code",
   "execution_count": null,
   "metadata": {
    "id": "bJqBcvlnH-6M"
   },
   "outputs": [],
   "source": []
  },
  {
   "cell_type": "markdown",
   "metadata": {
    "id": "0Im8ArFmH_1R"
   },
   "source": [
    "**After examining my clusters, I believe the groupings make sense because....**"
   ]
  },
  {
   "cell_type": "markdown",
   "metadata": {
    "id": "cU2O0tkmoaxB"
   },
   "source": [
    "# **Part 2: Principal Component Analysis (50 Points)**"
   ]
  },
  {
   "cell_type": "markdown",
   "metadata": {
    "id": "tAYnauLpOSma"
   },
   "source": [
    "## **Question 1 (15 points):**\n",
    "## Fit a PCA model to a dataset if your choice. Write code to visualize the first 2 principal components and color code your groups to differentiate them.\n",
    "\n"
   ]
  },
  {
   "cell_type": "code",
   "execution_count": null,
   "metadata": {
    "id": "5SyhRJB9HZ3I"
   },
   "outputs": [],
   "source": []
  },
  {
   "cell_type": "markdown",
   "metadata": {
    "id": "07ymrylhOwLk"
   },
   "source": [
    "## **Question 2 (10 points):**\n",
    "## Create 2 barplots:\n",
    "\n",
    "*   The first barplot should show the percentage variance explained by each principal component\n",
    "\n",
    "* The first barplot should show the **cumulative** percentage variance explained by each principal component. Add a horizontal red line on this graph depicting when the cumulative variance has hit 80%.\n",
    "\n",
    "\n",
    "## Write 2 to 3 sentences on how many components explain 80% of the variability in your dataset. Are the results surprising given how much variance is in (or not in) your data? What features would you consider dropping based on your results and why?\n"
   ]
  },
  {
   "cell_type": "code",
   "execution_count": null,
   "metadata": {
    "id": "ZI5av9ewPGV2"
   },
   "outputs": [],
   "source": []
  },
  {
   "cell_type": "markdown",
   "metadata": {
    "id": "JoN_J4AuPaWG"
   },
   "source": [
    "**It tales N components to explain...**\n",
    "\n",
    "**I would consider dropping...**"
   ]
  },
  {
   "cell_type": "markdown",
   "metadata": {
    "id": "PK00jGAzOj6A"
   },
   "source": [
    "## **Question 3 (25 points):**\n",
    "## Write **3 paragraphs**, supported by code and exploratory analysis, explaining and exploring the groupings you see in your data. Utilize data features to justify why the components that explain so much of the variance in your data are reasonable. Explain what kind of applications or decision making your analysis can help support.\n",
    "\n",
    "## You may choose to explore beyond simply the first 2 principal components if you wish.\n",
    "\n"
   ]
  },
  {
   "cell_type": "code",
   "execution_count": null,
   "metadata": {
    "id": "xNQmb9m2P1VW"
   },
   "outputs": [],
   "source": []
  },
  {
   "cell_type": "markdown",
   "metadata": {
    "id": "dGnDLN8oP1es"
   },
   "source": [
    "**The principal components show...**\n",
    "\n",
    "**The PCs responsible for explaining the majority of variance...**\n",
    "\n",
    "**These results can be used for...**"
   ]
  },
  {
   "cell_type": "markdown",
   "metadata": {
    "id": "x1KiVMvjNKGU"
   },
   "source": [
    "### Honor Pledge"
   ]
  },
  {
   "cell_type": "markdown",
   "metadata": {
    "id": "Jo-hwQo5LBAk"
   },
   "source": [
    "On my honor as a student, I have neither given nor received unauthorized aid on this assignment."
   ]
  }
 ],
 "metadata": {
  "colab": {
   "provenance": []
  },
  "kernelspec": {
   "display_name": "Python 3 (ipykernel)",
   "language": "python",
   "name": "python3"
  },
  "language_info": {
   "codemirror_mode": {
    "name": "ipython",
    "version": 3
   },
   "file_extension": ".py",
   "mimetype": "text/x-python",
   "name": "python",
   "nbconvert_exporter": "python",
   "pygments_lexer": "ipython3",
   "version": "3.8.17"
  }
 },
 "nbformat": 4,
 "nbformat_minor": 4
}
