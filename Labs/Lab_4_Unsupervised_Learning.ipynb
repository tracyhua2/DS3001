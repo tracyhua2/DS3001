{
  "cells": [
    {
      "cell_type": "markdown",
      "metadata": {
        "id": "view-in-github",
        "colab_type": "text"
      },
      "source": [
        "<a href=\"https://colab.research.google.com/github/tracyhua2/DS3001/blob/main/Labs/Lab_4_Unsupervised_Learning.ipynb\" target=\"_parent\"><img src=\"https://colab.research.google.com/assets/colab-badge.svg\" alt=\"Open In Colab\"/></a>"
      ]
    },
    {
      "cell_type": "markdown",
      "metadata": {
        "id": "Hkkb_7LYKsG4"
      },
      "source": [
        "## **Name:** Tracy Hua\n",
        "\n",
        "## **Computing ID:** njn4gb"
      ]
    },
    {
      "cell_type": "code",
      "execution_count": 1,
      "metadata": {
        "id": "1DAOPfwqMV5t"
      },
      "outputs": [],
      "source": [
        "import pandas as pd\n",
        "import numpy as np\n",
        "import matplotlib.pyplot as plt\n",
        "import tensorflow as tf"
      ]
    },
    {
      "cell_type": "markdown",
      "metadata": {
        "id": "r4A9sts1JrTc"
      },
      "source": [
        "# Lab 4: Unsupervised Learning (100 Points)"
      ]
    },
    {
      "cell_type": "markdown",
      "source": [
        "In this lab, we will implement 2 models in the unsupervised learning family **K-means clustering** and **Principal Component Analysis (PCA)**.\n",
        "\n",
        "You will utilize the skills you have gained over the semester to build, explore, and evaluate your models. As always, you will be graded on your model building and interpretation of  results rather than specific performance."
      ],
      "metadata": {
        "id": "v2MiKceoh6yF"
      }
    },
    {
      "cell_type": "markdown",
      "source": [
        "![](https://miro.medium.com/v2/resize:fit:1400/format:webp/0*h-lAg5H-ZNDRXxX2.png)"
      ],
      "metadata": {
        "id": "rcS_RpJ-D2JS"
      }
    },
    {
      "cell_type": "markdown",
      "source": [
        "# **Part 1: K-Means Clustering (50 points)**"
      ],
      "metadata": {
        "id": "h_LpB5eWiTF0"
      }
    },
    {
      "cell_type": "markdown",
      "source": [
        "## For Part 1, you will pick from the following preloaded datasets:\n",
        "\n"
      ],
      "metadata": {
        "id": "lJdA3izfjZKn"
      }
    },
    {
      "cell_type": "code",
      "source": [
        "pokemon_df = pd.read_csv(\"https://gist.githubusercontent.com/armgilles/194bcff35001e7eb53a2a8b441e8b2c6/raw/92200bc0a673d5ce2110aaad4544ed6c4010f687/pokemon.csv\")"
      ],
      "metadata": {
        "id": "7tMNSv0ZBUxk"
      },
      "execution_count": 2,
      "outputs": []
    },
    {
      "cell_type": "code",
      "source": [
        "# Load Fashion MNIST data\n",
        "fashion_mnist = tf.keras.datasets.fashion_mnist\n",
        "(train_images, train_labels), (test_images, test_labels) = fashion_mnist.load_data()"
      ],
      "metadata": {
        "id": "OjVlA0LCBVLo",
        "outputId": "3f3a006a-1735-47a8-9dd5-49d3cdca3d40",
        "colab": {
          "base_uri": "https://localhost:8080/"
        }
      },
      "execution_count": 3,
      "outputs": [
        {
          "output_type": "stream",
          "name": "stdout",
          "text": [
            "Downloading data from https://storage.googleapis.com/tensorflow/tf-keras-datasets/train-labels-idx1-ubyte.gz\n",
            "\u001b[1m29515/29515\u001b[0m \u001b[32m━━━━━━━━━━━━━━━━━━━━\u001b[0m\u001b[37m\u001b[0m \u001b[1m0s\u001b[0m 0us/step\n",
            "Downloading data from https://storage.googleapis.com/tensorflow/tf-keras-datasets/train-images-idx3-ubyte.gz\n",
            "\u001b[1m26421880/26421880\u001b[0m \u001b[32m━━━━━━━━━━━━━━━━━━━━\u001b[0m\u001b[37m\u001b[0m \u001b[1m0s\u001b[0m 0us/step\n",
            "Downloading data from https://storage.googleapis.com/tensorflow/tf-keras-datasets/t10k-labels-idx1-ubyte.gz\n",
            "\u001b[1m5148/5148\u001b[0m \u001b[32m━━━━━━━━━━━━━━━━━━━━\u001b[0m\u001b[37m\u001b[0m \u001b[1m0s\u001b[0m 0us/step\n",
            "Downloading data from https://storage.googleapis.com/tensorflow/tf-keras-datasets/t10k-images-idx3-ubyte.gz\n",
            "\u001b[1m4422102/4422102\u001b[0m \u001b[32m━━━━━━━━━━━━━━━━━━━━\u001b[0m\u001b[37m\u001b[0m \u001b[1m0s\u001b[0m 0us/step\n"
          ]
        }
      ]
    },
    {
      "cell_type": "markdown",
      "source": [
        "**Another option open to you, if you wish, is to  utilize a dataset of your choice (including your final project dataset).**\n"
      ],
      "metadata": {
        "id": "IR8FBoX3BPgT"
      }
    },
    {
      "cell_type": "markdown",
      "source": [
        "In a text cell, answer the following exploratory questions and support your observations with any code, if needed."
      ],
      "metadata": {
        "id": "M6Hb_Ab7BSc5"
      }
    },
    {
      "cell_type": "markdown",
      "metadata": {
        "id": "m4xxMTbVTIUP"
      },
      "source": [
        "## **Question 1 (5 points):**\n",
        "## Read in your dataset as a Pandas DataFrame. Show the first 5 rows. How many rows and columns do you have?\n",
        "\n",
        "## What are your features and their datatypes?"
      ]
    },
    {
      "cell_type": "code",
      "source": [
        "print(pokemon_df.head(5))"
      ],
      "metadata": {
        "id": "HefBwSXYnjdW",
        "colab": {
          "base_uri": "https://localhost:8080/"
        },
        "outputId": "43d0308c-91f5-46da-e73b-2a1450e18ecb"
      },
      "execution_count": 4,
      "outputs": [
        {
          "output_type": "stream",
          "name": "stdout",
          "text": [
            "   #                   Name Type 1  Type 2  Total  HP  Attack  Defense  \\\n",
            "0  1              Bulbasaur  Grass  Poison    318  45      49       49   \n",
            "1  2                Ivysaur  Grass  Poison    405  60      62       63   \n",
            "2  3               Venusaur  Grass  Poison    525  80      82       83   \n",
            "3  3  VenusaurMega Venusaur  Grass  Poison    625  80     100      123   \n",
            "4  4             Charmander   Fire     NaN    309  39      52       43   \n",
            "\n",
            "   Sp. Atk  Sp. Def  Speed  Generation  Legendary  \n",
            "0       65       65     45           1      False  \n",
            "1       80       80     60           1      False  \n",
            "2      100      100     80           1      False  \n",
            "3      122      120     80           1      False  \n",
            "4       60       50     65           1      False  \n"
          ]
        }
      ]
    },
    {
      "cell_type": "code",
      "source": [
        "print(pokemon_df.shape)"
      ],
      "metadata": {
        "colab": {
          "base_uri": "https://localhost:8080/"
        },
        "id": "WEA4ACzg7sac",
        "outputId": "1775ba16-5e25-4c1b-daa6-23a7707d434c"
      },
      "execution_count": 5,
      "outputs": [
        {
          "output_type": "stream",
          "name": "stdout",
          "text": [
            "(800, 13)\n"
          ]
        }
      ]
    },
    {
      "cell_type": "code",
      "source": [
        "features = pokemon_df.drop(columns=['#','Name'])\n",
        "print(features.head())"
      ],
      "metadata": {
        "colab": {
          "base_uri": "https://localhost:8080/"
        },
        "id": "wtJCBzx770EV",
        "outputId": "b7f31868-5d8d-4e89-b373-16e47921c97b"
      },
      "execution_count": 6,
      "outputs": [
        {
          "output_type": "stream",
          "name": "stdout",
          "text": [
            "  Type 1  Type 2  Total  HP  Attack  Defense  Sp. Atk  Sp. Def  Speed  \\\n",
            "0  Grass  Poison    318  45      49       49       65       65     45   \n",
            "1  Grass  Poison    405  60      62       63       80       80     60   \n",
            "2  Grass  Poison    525  80      82       83      100      100     80   \n",
            "3  Grass  Poison    625  80     100      123      122      120     80   \n",
            "4   Fire     NaN    309  39      52       43       60       50     65   \n",
            "\n",
            "   Generation  Legendary  \n",
            "0           1      False  \n",
            "1           1      False  \n",
            "2           1      False  \n",
            "3           1      False  \n",
            "4           1      False  \n"
          ]
        }
      ]
    },
    {
      "cell_type": "code",
      "source": [
        "print(features.dtypes)"
      ],
      "metadata": {
        "colab": {
          "base_uri": "https://localhost:8080/"
        },
        "id": "u0XPgujV9IEc",
        "outputId": "c6130617-4dd5-47ae-f36b-872322e6c52d"
      },
      "execution_count": 7,
      "outputs": [
        {
          "output_type": "stream",
          "name": "stdout",
          "text": [
            "Type 1        object\n",
            "Type 2        object\n",
            "Total          int64\n",
            "HP             int64\n",
            "Attack         int64\n",
            "Defense        int64\n",
            "Sp. Atk        int64\n",
            "Sp. Def        int64\n",
            "Speed          int64\n",
            "Generation     int64\n",
            "Legendary       bool\n",
            "dtype: object\n"
          ]
        }
      ]
    },
    {
      "cell_type": "markdown",
      "source": [
        "**There is a total of 800 rows and 13 columns. The features are Type 1, Type 2, Total, HP, Attack, Defense, Sp. Atk, Sp. Def, Speed, Generation, and Legendary. The data types are object, object, int64, int64, int64, int64, int64, int64, int64, int64, and bool, respectively.**"
      ],
      "metadata": {
        "id": "IGjYDY6O-EIT"
      }
    },
    {
      "cell_type": "markdown",
      "source": [
        "## **Question 2 (5 points):**\n",
        "## Identify what percentage of each column has missing values and display this information (column name, percentage values missing) in a DataFrame.\n",
        "\n",
        "## Then, fill in any missing values using any method appropriate for each column's data type and values."
      ],
      "metadata": {
        "id": "JgxckMLW7mq7"
      }
    },
    {
      "cell_type": "code",
      "source": [
        "NA_df = pd.DataFrame((pokemon_df.isna().sum()/pokemon_df.count())*100, columns=['Percent Missing'])\n",
        "print(NA_df)"
      ],
      "metadata": {
        "id": "qKooDsqm8jQ7",
        "colab": {
          "base_uri": "https://localhost:8080/"
        },
        "outputId": "26506b7f-46cf-4bbe-df2e-7ca382cbd5ac"
      },
      "execution_count": 8,
      "outputs": [
        {
          "output_type": "stream",
          "name": "stdout",
          "text": [
            "            Percent Missing\n",
            "#                  0.000000\n",
            "Name               0.000000\n",
            "Type 1             0.000000\n",
            "Type 2            93.236715\n",
            "Total              0.000000\n",
            "HP                 0.000000\n",
            "Attack             0.000000\n",
            "Defense            0.000000\n",
            "Sp. Atk            0.000000\n",
            "Sp. Def            0.000000\n",
            "Speed              0.000000\n",
            "Generation         0.000000\n",
            "Legendary          0.000000\n"
          ]
        }
      ]
    },
    {
      "cell_type": "code",
      "source": [
        "# impute missing values (NA) in 'Type 2' column using mode value\n",
        "mode_value = pokemon_df['Type 2'].mode()[0]\n",
        "pokemon_df['Type 2'].fillna(mode_value, inplace=True)\n",
        "print(pokemon_df.head())"
      ],
      "metadata": {
        "colab": {
          "base_uri": "https://localhost:8080/"
        },
        "id": "Y_re8MhS-ElR",
        "outputId": "464fb4f1-9409-482f-9129-9fdf348ad1f9"
      },
      "execution_count": 9,
      "outputs": [
        {
          "output_type": "stream",
          "name": "stdout",
          "text": [
            "   #                   Name Type 1  Type 2  Total  HP  Attack  Defense  \\\n",
            "0  1              Bulbasaur  Grass  Poison    318  45      49       49   \n",
            "1  2                Ivysaur  Grass  Poison    405  60      62       63   \n",
            "2  3               Venusaur  Grass  Poison    525  80      82       83   \n",
            "3  3  VenusaurMega Venusaur  Grass  Poison    625  80     100      123   \n",
            "4  4             Charmander   Fire  Flying    309  39      52       43   \n",
            "\n",
            "   Sp. Atk  Sp. Def  Speed  Generation  Legendary  \n",
            "0       65       65     45           1      False  \n",
            "1       80       80     60           1      False  \n",
            "2      100      100     80           1      False  \n",
            "3      122      120     80           1      False  \n",
            "4       60       50     65           1      False  \n"
          ]
        },
        {
          "output_type": "stream",
          "name": "stderr",
          "text": [
            "<ipython-input-9-8e4564b0a045>:3: FutureWarning: A value is trying to be set on a copy of a DataFrame or Series through chained assignment using an inplace method.\n",
            "The behavior will change in pandas 3.0. This inplace method will never work because the intermediate object on which we are setting values always behaves as a copy.\n",
            "\n",
            "For example, when doing 'df[col].method(value, inplace=True)', try using 'df.method({col: value}, inplace=True)' or df[col] = df[col].method(value) instead, to perform the operation inplace on the original object.\n",
            "\n",
            "\n",
            "  pokemon_df['Type 2'].fillna(mode_value, inplace=True)\n"
          ]
        }
      ]
    },
    {
      "cell_type": "markdown",
      "source": [
        "## **Question 3 (5 points):**\n",
        "## Identify columns in your DataFrame that need to be encoded and use the proper encoder for each feature to transform your categorical data into numerical features.\n",
        "\n",
        "## In a sentence per each encoded feature, justify your choice in encoder and why you utilized it"
      ],
      "metadata": {
        "id": "J6bltiTx9dv3"
      }
    },
    {
      "cell_type": "code",
      "source": [
        "# count of unique responses in Type 1\n",
        "pokemon_df['Type 1'].unique()"
      ],
      "metadata": {
        "colab": {
          "base_uri": "https://localhost:8080/"
        },
        "id": "CIAtX85M_hk5",
        "outputId": "de65e5b9-cf8a-4484-ad66-bb02bd59b330"
      },
      "execution_count": 10,
      "outputs": [
        {
          "output_type": "execute_result",
          "data": {
            "text/plain": [
              "array(['Grass', 'Fire', 'Water', 'Bug', 'Normal', 'Poison', 'Electric',\n",
              "       'Ground', 'Fairy', 'Fighting', 'Psychic', 'Rock', 'Ghost', 'Ice',\n",
              "       'Dragon', 'Dark', 'Steel', 'Flying'], dtype=object)"
            ]
          },
          "metadata": {},
          "execution_count": 10
        }
      ]
    },
    {
      "cell_type": "code",
      "source": [
        "# count of unique responses in Type 2\n",
        "len(pokemon_df['Type 2'].unique())"
      ],
      "metadata": {
        "colab": {
          "base_uri": "https://localhost:8080/"
        },
        "id": "dZV-IFv0_3Vj",
        "outputId": "663cf9eb-53b3-4b98-9365-6c69b46e1421"
      },
      "execution_count": 11,
      "outputs": [
        {
          "output_type": "execute_result",
          "data": {
            "text/plain": [
              "18"
            ]
          },
          "metadata": {},
          "execution_count": 11
        }
      ]
    },
    {
      "cell_type": "code",
      "source": [
        "pokemon_df['Legendary'].unique()"
      ],
      "metadata": {
        "colab": {
          "base_uri": "https://localhost:8080/"
        },
        "id": "Q6m6amQCAVhx",
        "outputId": "ef570fa8-733b-4f1b-ad7f-3b3f4b79acf3"
      },
      "execution_count": 12,
      "outputs": [
        {
          "output_type": "execute_result",
          "data": {
            "text/plain": [
              "array([False,  True])"
            ]
          },
          "metadata": {},
          "execution_count": 12
        }
      ]
    },
    {
      "cell_type": "code",
      "source": [
        "# columns that need to be encoded: Type 1, Type 2, Legendary\n",
        "\n",
        "# Type 1 & Type 2 using OneHotEncoder where 1 if True, 0 otherwise\n",
        "pokemon_df['Type 1'] = pokemon_df['Type 1'].astype(\"string\")\n",
        "pokemon_df['Type 2'] = pokemon_df['Type 2'].astype(\"string\")\n",
        "pokemon_df = pd.get_dummies(pokemon_df, columns=['Type 1','Type 2'], drop_first=True, dtype=int)\n",
        "print(pokemon_df.head())"
      ],
      "metadata": {
        "id": "qXNkpLs396Hw",
        "colab": {
          "base_uri": "https://localhost:8080/"
        },
        "outputId": "0050177a-92f5-4b78-cc3b-6d8fc4c11cb3"
      },
      "execution_count": 13,
      "outputs": [
        {
          "output_type": "stream",
          "name": "stdout",
          "text": [
            "   #                   Name  Total  HP  Attack  Defense  Sp. Atk  Sp. Def  \\\n",
            "0  1              Bulbasaur    318  45      49       49       65       65   \n",
            "1  2                Ivysaur    405  60      62       63       80       80   \n",
            "2  3               Venusaur    525  80      82       83      100      100   \n",
            "3  3  VenusaurMega Venusaur    625  80     100      123      122      120   \n",
            "4  4             Charmander    309  39      52       43       60       50   \n",
            "\n",
            "   Speed  Generation  ...  Type 2_Ghost  Type 2_Grass  Type 2_Ground  \\\n",
            "0     45           1  ...             0             0              0   \n",
            "1     60           1  ...             0             0              0   \n",
            "2     80           1  ...             0             0              0   \n",
            "3     80           1  ...             0             0              0   \n",
            "4     65           1  ...             0             0              0   \n",
            "\n",
            "   Type 2_Ice  Type 2_Normal  Type 2_Poison  Type 2_Psychic  Type 2_Rock  \\\n",
            "0           0              0              1               0            0   \n",
            "1           0              0              1               0            0   \n",
            "2           0              0              1               0            0   \n",
            "3           0              0              1               0            0   \n",
            "4           0              0              0               0            0   \n",
            "\n",
            "   Type 2_Steel  Type 2_Water  \n",
            "0             0             0  \n",
            "1             0             0  \n",
            "2             0             0  \n",
            "3             0             0  \n",
            "4             0             0  \n",
            "\n",
            "[5 rows x 45 columns]\n"
          ]
        }
      ]
    },
    {
      "cell_type": "code",
      "source": [
        "# Legendary convert to binary\n",
        "pokemon_df['Legendary'] = pokemon_df['Legendary'].astype(int)\n",
        "print(pokemon_df['Legendary'].head())"
      ],
      "metadata": {
        "colab": {
          "base_uri": "https://localhost:8080/"
        },
        "id": "lqjeStmZEGhP",
        "outputId": "34bf8d55-0746-4f78-ed32-ae48be92418a"
      },
      "execution_count": 14,
      "outputs": [
        {
          "output_type": "stream",
          "name": "stdout",
          "text": [
            "0    0\n",
            "1    0\n",
            "2    0\n",
            "3    0\n",
            "4    0\n",
            "Name: Legendary, dtype: int64\n"
          ]
        }
      ]
    },
    {
      "cell_type": "markdown",
      "source": [
        "**I encoded Type 1 and Type 2 with OneHotEncoder via pd.get_dummies because they are categorical variables with no ordinal relationships. This encoding allows the model to interpret each type independently without assuming hierarchy. I convered Legendary to a binary integer because its a boolean feature (True/False) and representingit as 1 or 0 is the most efficient way to make it numerical.**"
      ],
      "metadata": {
        "id": "wjnBUtpB96Yu"
      }
    },
    {
      "cell_type": "markdown",
      "source": [
        "## **Question 4 (5 points):**\n",
        "## Finally, identify your numerical columns and apply both standardization and normalization.\n",
        "\n",
        "## Display each numerical column name and its minimum and maximum values in a DataFrame after these 2 processes.\n",
        "\n",
        "## In 2 to 3 sentences, summarize the DataFrame and the effects of your choice in standardization and normalization had on your numerical features? Why would scaling your data be beneficial for unsupervised learning?"
      ],
      "metadata": {
        "id": "lGZ8stUWmnjx"
      }
    },
    {
      "cell_type": "code",
      "source": [
        "from sklearn.preprocessing import StandardScaler, MinMaxScaler"
      ],
      "metadata": {
        "id": "MeiqvF3Bvhd_"
      },
      "execution_count": 15,
      "outputs": []
    },
    {
      "cell_type": "code",
      "source": [
        "# standardization\n",
        "numeric_cols = ['Total','HP','Attack','Defense','Sp. Atk','Sp. Def','Speed','Generation']\n",
        "numeric_data = pokemon_df[numeric_cols]\n",
        "\n",
        "std_scaler = StandardScaler()\n",
        "standardized_data = std_scaler.fit_transform(numeric_data)\n",
        "print(standardized_data)"
      ],
      "metadata": {
        "id": "aN8PTkRuis-n",
        "outputId": "d104650b-4701-426d-be61-d62b325d1742",
        "colab": {
          "base_uri": "https://localhost:8080/"
        }
      },
      "execution_count": 16,
      "outputs": [
        {
          "output_type": "stream",
          "name": "stdout",
          "text": [
            "[[-0.97676549 -0.95062622 -0.92490618 ... -0.24818854 -0.80150318\n",
            "  -1.39963712]\n",
            " [-0.25108843 -0.3628221  -0.5241302  ...  0.29115635 -0.28501525\n",
            "  -1.39963712]\n",
            " [ 0.74984544  0.42091674  0.09244823 ...  1.01028289  0.40363531\n",
            "  -1.39963712]\n",
            " ...\n",
            " [ 1.37542912  0.42091674  0.95565803 ...  2.08897269  0.05931003\n",
            "   1.61195431]\n",
            " [ 2.04271837  0.42091674  2.49710411 ...  2.08897269  0.40363531\n",
            "   1.61195431]\n",
            " [ 1.37542912  0.42091674  0.95565803 ...  0.65071962  0.05931003\n",
            "   1.61195431]]\n"
          ]
        }
      ]
    },
    {
      "cell_type": "code",
      "source": [
        "# normalization\n",
        "norm_scaler = MinMaxScaler()\n",
        "normalized_data = norm_scaler.fit_transform(numeric_data)\n",
        "print(normalized_data)"
      ],
      "metadata": {
        "id": "byJXk-yJkK61",
        "outputId": "e725cf97-246b-4bf1-92b5-b455fb2998f7",
        "colab": {
          "base_uri": "https://localhost:8080/"
        }
      },
      "execution_count": 17,
      "outputs": [
        {
          "output_type": "stream",
          "name": "stdout",
          "text": [
            "[[0.23       0.17322835 0.23783784 ... 0.21428571 0.22857143 0.        ]\n",
            " [0.375      0.23228346 0.30810811 ... 0.28571429 0.31428571 0.        ]\n",
            " [0.575      0.31102362 0.41621622 ... 0.38095238 0.42857143 0.        ]\n",
            " ...\n",
            " [0.7        0.31102362 0.56756757 ... 0.52380952 0.37142857 1.        ]\n",
            " [0.83333333 0.31102362 0.83783784 ... 0.52380952 0.42857143 1.        ]\n",
            " [0.7        0.31102362 0.56756757 ... 0.33333333 0.37142857 1.        ]]\n"
          ]
        }
      ]
    },
    {
      "cell_type": "markdown",
      "source": [
        "**The methods I used to standardize and normalize my data caused the values of my data to range...**\n",
        "\n",
        "**I think scaling your data is helpful for unsupervised learning because scaled data...**"
      ],
      "metadata": {
        "id": "CHa_7vvUvhmx"
      }
    },
    {
      "cell_type": "markdown",
      "source": [
        "## **Question 5 (7 points):**\n",
        "## Create a function to instantiate K-Means Clustering model with a user inputted parameter for \"k\" number clusters. Also tune a minimum of 3 hyperparameters of your choice, referencing documentation as necessary:\n",
        "* https://scikit-learn.org/stable/modules/generated/sklearn.cluster.KMeans.html  \n",
        "\n",
        "\n",
        "## Fit your model to your data, adding your predictions in a column of your DataFrame called cluster. Return this new dataframe in your function. Call your function on your data with k = 3."
      ],
      "metadata": {
        "id": "3XtTm6UlBz8M"
      }
    },
    {
      "cell_type": "code",
      "source": [],
      "metadata": {
        "id": "J3pGjmTvCLlu"
      },
      "execution_count": 17,
      "outputs": []
    },
    {
      "cell_type": "markdown",
      "source": [
        "## **Question 6 (5 points):**\n",
        "## Write code to plot your predicted clusters, with different colors for different cluster numbers. Apply this code to the predictions you obtained in Question 5 and describe the output.\n",
        "\n",
        "## In a minimum of 3 sentences, based on all the information you have, describe why k = 3 seems like a reasonable or unreasounable amount of clusters for your data."
      ],
      "metadata": {
        "id": "JKfd1qT3DG15"
      }
    },
    {
      "cell_type": "code",
      "source": [],
      "metadata": {
        "id": "L3_eMBsQDGpB"
      },
      "execution_count": 17,
      "outputs": []
    },
    {
      "cell_type": "markdown",
      "source": [
        "**Because the predicted clusters show XYZ, I believe k=3 is/is not a reasonable choice...**"
      ],
      "metadata": {
        "id": "r-aHg1r8En0o"
      }
    },
    {
      "cell_type": "markdown",
      "source": [
        "## **Question 7 (8 points):**\n",
        "## Plot an elbow plot for your clustering model with any metric of your choice and pick an optimal k value.\n",
        "\n",
        "## Then, utilize the optimal k to tune at least 3 K-Means Clustering models by varying the hyperparameters. For each model, you will use the optimal k number of clusters you identified in your elbow plot but vary at least 3 other hyperparameters. Plot your predicted clusters differentiated by color."
      ],
      "metadata": {
        "id": "9DsYr4-9E5Ek"
      }
    },
    {
      "cell_type": "code",
      "source": [],
      "metadata": {
        "id": "FyM12M0cF3F7"
      },
      "execution_count": 17,
      "outputs": []
    },
    {
      "cell_type": "markdown",
      "source": [
        "## In a minimum of 5 sentences, reflect on your tuned models. Write what you judge the optimal amount of clusters to be and why. How do the plots of your clusters change with tuning specific parameters? Do your results make sense?"
      ],
      "metadata": {
        "id": "2ow9JBD8G3ob"
      }
    },
    {
      "cell_type": "markdown",
      "source": [
        "**I picked a k of X clusters because...**\n",
        "\n",
        "**Yes. My tuned models make sense because...**"
      ],
      "metadata": {
        "id": "Fo5iLpKRF3nn"
      }
    },
    {
      "cell_type": "markdown",
      "source": [
        "## **Question 8 (10 points):**\n",
        "## Now, examine the makeup of your clusters. Create plots and visualizations that may explain your initial groupings.\n",
        "\n",
        "## You may do this by color coding your clusters by a given feature or by examining descriptive statistics of each cluster (ie: cluster 1 has an average temperature of 15 while cluster 2....)\n",
        "\n",
        "## Write a **10 to 15 sentence** reflection on why you think your clusters have oriented the way they display. Are you clusters similar are very different in their feature makeup? Are you clusters similarly sized or are some much larger or smaller? Are there any aspects of the clusters that don't make sense when compared your original data or targets?\n",
        "\n",
        "\n"
      ],
      "metadata": {
        "id": "mKrWUaMcGMG1"
      }
    },
    {
      "cell_type": "code",
      "source": [],
      "metadata": {
        "id": "bJqBcvlnH-6M"
      },
      "execution_count": 17,
      "outputs": []
    },
    {
      "cell_type": "markdown",
      "source": [
        "**After examining my clusters, I believe the groupings make sense because....**"
      ],
      "metadata": {
        "id": "0Im8ArFmH_1R"
      }
    },
    {
      "cell_type": "markdown",
      "metadata": {
        "id": "cU2O0tkmoaxB"
      },
      "source": [
        "# **Part 2: Principal Component Analysis (50 Points)**"
      ]
    },
    {
      "cell_type": "markdown",
      "source": [
        "## **Question 1 (15 points):**\n",
        "## Fit a PCA model to a dataset if your choice. Write code to visualize the first 2 principal components and color code your groups to differentiate them.\n",
        "\n"
      ],
      "metadata": {
        "id": "tAYnauLpOSma"
      }
    },
    {
      "cell_type": "code",
      "source": [],
      "metadata": {
        "id": "5SyhRJB9HZ3I"
      },
      "execution_count": 17,
      "outputs": []
    },
    {
      "cell_type": "markdown",
      "source": [
        "## **Question 2 (10 points):**\n",
        "## Create 2 barplots:\n",
        "\n",
        "*   The first barplot should show the percentage variance explained by each principal component\n",
        "\n",
        "* The first barplot should show the **cumulative** percentage variance explained by each principal component. Add a horizontal red line on this graph depicting when the cumulative variance has hit 80%.\n",
        "\n",
        "\n",
        "## Write 2 to 3 sentences on how many components explain 80% of the variability in your dataset. Are the results surprising given how much variance is in (or not in) your data? What features would you consider dropping based on your results and why?\n"
      ],
      "metadata": {
        "id": "07ymrylhOwLk"
      }
    },
    {
      "cell_type": "code",
      "source": [],
      "metadata": {
        "id": "ZI5av9ewPGV2"
      },
      "execution_count": 17,
      "outputs": []
    },
    {
      "cell_type": "markdown",
      "source": [
        "**It tales N components to explain...**\n",
        "\n",
        "**I would consider dropping...**"
      ],
      "metadata": {
        "id": "JoN_J4AuPaWG"
      }
    },
    {
      "cell_type": "markdown",
      "source": [
        "## **Question 3 (25 points):**\n",
        "## Write **3 paragraphs**, supported by code and exploratory analysis, explaining and exploring the groupings you see in your data. Utilize data features to justify why the components that explain so much of the variance in your data are reasonable. Explain what kind of applications or decision making your analysis can help support.\n",
        "\n",
        "## You may choose to explore beyond simply the first 2 principal components if you wish.\n",
        "\n"
      ],
      "metadata": {
        "id": "PK00jGAzOj6A"
      }
    },
    {
      "cell_type": "code",
      "source": [],
      "metadata": {
        "id": "xNQmb9m2P1VW"
      },
      "execution_count": 17,
      "outputs": []
    },
    {
      "cell_type": "markdown",
      "source": [
        "**The principal components show...**\n",
        "\n",
        "**The PCs responsible for explaining the majority of variance...**\n",
        "\n",
        "**These results can be used for...**"
      ],
      "metadata": {
        "id": "dGnDLN8oP1es"
      }
    },
    {
      "cell_type": "markdown",
      "metadata": {
        "id": "x1KiVMvjNKGU"
      },
      "source": [
        "### Honor Pledge"
      ]
    },
    {
      "cell_type": "markdown",
      "metadata": {
        "id": "Jo-hwQo5LBAk"
      },
      "source": [
        "On my honor as a student, I have neither given nor received unauthorized aid on this assignment."
      ]
    }
  ],
  "metadata": {
    "colab": {
      "provenance": [],
      "include_colab_link": true
    },
    "kernelspec": {
      "display_name": "Python 3 (ipykernel)",
      "language": "python",
      "name": "python3"
    },
    "language_info": {
      "codemirror_mode": {
        "name": "ipython",
        "version": 3
      },
      "file_extension": ".py",
      "mimetype": "text/x-python",
      "name": "python",
      "nbconvert_exporter": "python",
      "pygments_lexer": "ipython3",
      "version": "3.8.17"
    }
  },
  "nbformat": 4,
  "nbformat_minor": 0
}